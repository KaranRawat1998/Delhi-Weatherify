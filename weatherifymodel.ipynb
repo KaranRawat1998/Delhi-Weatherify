{
 "cells": [
  {
   "cell_type": "markdown",
   "metadata": {},
   "source": [
    "# Weather Condition Prediction Delhi Model"
   ]
  },
  {
   "cell_type": "code",
   "execution_count": 1,
   "metadata": {},
   "outputs": [],
   "source": [
    "import warnings\n",
    "warnings.filterwarnings('ignore')\n",
    "import pandas as pd\n",
    "import numpy as np\n",
    "import matplotlib.pyplot as plt\n",
    "import seaborn as sns"
   ]
  },
  {
   "cell_type": "markdown",
   "metadata": {},
   "source": [
    "**Importing Dataset**"
   ]
  },
  {
   "cell_type": "code",
   "execution_count": 2,
   "metadata": {},
   "outputs": [
    {
     "data": {
      "text/html": [
       "<div>\n",
       "<style scoped>\n",
       "    .dataframe tbody tr th:only-of-type {\n",
       "        vertical-align: middle;\n",
       "    }\n",
       "\n",
       "    .dataframe tbody tr th {\n",
       "        vertical-align: top;\n",
       "    }\n",
       "\n",
       "    .dataframe thead th {\n",
       "        text-align: right;\n",
       "    }\n",
       "</style>\n",
       "<table border=\"1\" class=\"dataframe\">\n",
       "  <thead>\n",
       "    <tr style=\"text-align: right;\">\n",
       "      <th></th>\n",
       "      <th>Date time</th>\n",
       "      <th>Maximum Temperature</th>\n",
       "      <th>Minimum Temperature</th>\n",
       "      <th>Temperature</th>\n",
       "      <th>Wind Chill</th>\n",
       "      <th>Heat Index</th>\n",
       "      <th>Wind Speed</th>\n",
       "      <th>Wind Direction</th>\n",
       "      <th>Wind Gust</th>\n",
       "      <th>Visibility</th>\n",
       "      <th>Cloud Cover</th>\n",
       "      <th>Relative Humidity</th>\n",
       "      <th>Sea Level Pressure</th>\n",
       "      <th>Dew Point</th>\n",
       "      <th>Conditions</th>\n",
       "      <th>Precipitation</th>\n",
       "    </tr>\n",
       "  </thead>\n",
       "  <tbody>\n",
       "    <tr>\n",
       "      <th>0</th>\n",
       "      <td>2016-01-01</td>\n",
       "      <td>23.8</td>\n",
       "      <td>8.0</td>\n",
       "      <td>14.8</td>\n",
       "      <td>8.5</td>\n",
       "      <td>NaN</td>\n",
       "      <td>7.6</td>\n",
       "      <td>125.52</td>\n",
       "      <td>NaN</td>\n",
       "      <td>1.0</td>\n",
       "      <td>28.6</td>\n",
       "      <td>73.11</td>\n",
       "      <td>1021.3</td>\n",
       "      <td>9.3</td>\n",
       "      <td>Partially cloudy</td>\n",
       "      <td>0.0</td>\n",
       "    </tr>\n",
       "    <tr>\n",
       "      <th>1</th>\n",
       "      <td>2016-01-02</td>\n",
       "      <td>21.8</td>\n",
       "      <td>8.3</td>\n",
       "      <td>14.6</td>\n",
       "      <td>NaN</td>\n",
       "      <td>NaN</td>\n",
       "      <td>13.0</td>\n",
       "      <td>153.29</td>\n",
       "      <td>NaN</td>\n",
       "      <td>1.2</td>\n",
       "      <td>11.4</td>\n",
       "      <td>73.29</td>\n",
       "      <td>1021.3</td>\n",
       "      <td>9.9</td>\n",
       "      <td>Clear</td>\n",
       "      <td>0.0</td>\n",
       "    </tr>\n",
       "    <tr>\n",
       "      <th>2</th>\n",
       "      <td>2016-01-03</td>\n",
       "      <td>22.1</td>\n",
       "      <td>8.0</td>\n",
       "      <td>13.9</td>\n",
       "      <td>6.8</td>\n",
       "      <td>NaN</td>\n",
       "      <td>14.8</td>\n",
       "      <td>180.04</td>\n",
       "      <td>NaN</td>\n",
       "      <td>0.9</td>\n",
       "      <td>3.7</td>\n",
       "      <td>75.24</td>\n",
       "      <td>1018.7</td>\n",
       "      <td>8.8</td>\n",
       "      <td>Clear</td>\n",
       "      <td>0.0</td>\n",
       "    </tr>\n",
       "    <tr>\n",
       "      <th>3</th>\n",
       "      <td>2016-01-04</td>\n",
       "      <td>23.2</td>\n",
       "      <td>8.0</td>\n",
       "      <td>15.4</td>\n",
       "      <td>NaN</td>\n",
       "      <td>NaN</td>\n",
       "      <td>7.6</td>\n",
       "      <td>56.61</td>\n",
       "      <td>NaN</td>\n",
       "      <td>0.7</td>\n",
       "      <td>22.1</td>\n",
       "      <td>75.10</td>\n",
       "      <td>1018.0</td>\n",
       "      <td>10.5</td>\n",
       "      <td>Clear</td>\n",
       "      <td>0.0</td>\n",
       "    </tr>\n",
       "    <tr>\n",
       "      <th>4</th>\n",
       "      <td>2016-01-05</td>\n",
       "      <td>26.3</td>\n",
       "      <td>11.3</td>\n",
       "      <td>18.1</td>\n",
       "      <td>NaN</td>\n",
       "      <td>NaN</td>\n",
       "      <td>9.4</td>\n",
       "      <td>77.04</td>\n",
       "      <td>NaN</td>\n",
       "      <td>1.1</td>\n",
       "      <td>46.1</td>\n",
       "      <td>71.74</td>\n",
       "      <td>1017.1</td>\n",
       "      <td>12.3</td>\n",
       "      <td>Partially cloudy</td>\n",
       "      <td>0.0</td>\n",
       "    </tr>\n",
       "  </tbody>\n",
       "</table>\n",
       "</div>"
      ],
      "text/plain": [
       "   Date time  Maximum Temperature  Minimum Temperature  Temperature  \\\n",
       "0 2016-01-01                 23.8                  8.0         14.8   \n",
       "1 2016-01-02                 21.8                  8.3         14.6   \n",
       "2 2016-01-03                 22.1                  8.0         13.9   \n",
       "3 2016-01-04                 23.2                  8.0         15.4   \n",
       "4 2016-01-05                 26.3                 11.3         18.1   \n",
       "\n",
       "   Wind Chill  Heat Index  Wind Speed  Wind Direction  Wind Gust  Visibility  \\\n",
       "0         8.5         NaN         7.6          125.52        NaN         1.0   \n",
       "1         NaN         NaN        13.0          153.29        NaN         1.2   \n",
       "2         6.8         NaN        14.8          180.04        NaN         0.9   \n",
       "3         NaN         NaN         7.6           56.61        NaN         0.7   \n",
       "4         NaN         NaN         9.4           77.04        NaN         1.1   \n",
       "\n",
       "   Cloud Cover  Relative Humidity  Sea Level Pressure  Dew Point  \\\n",
       "0         28.6              73.11              1021.3        9.3   \n",
       "1         11.4              73.29              1021.3        9.9   \n",
       "2          3.7              75.24              1018.7        8.8   \n",
       "3         22.1              75.10              1018.0       10.5   \n",
       "4         46.1              71.74              1017.1       12.3   \n",
       "\n",
       "         Conditions  Precipitation  \n",
       "0  Partially cloudy            0.0  \n",
       "1             Clear            0.0  \n",
       "2             Clear            0.0  \n",
       "3             Clear            0.0  \n",
       "4  Partially cloudy            0.0  "
      ]
     },
     "execution_count": 2,
     "metadata": {},
     "output_type": "execute_result"
    }
   ],
   "source": [
    "df=pd.read_excel('delhiweatherdata.xlsx')\n",
    "pd.set_option('display.max_columns',None)\n",
    "df.head()"
   ]
  },
  {
   "cell_type": "code",
   "execution_count": 3,
   "metadata": {},
   "outputs": [
    {
     "data": {
      "text/plain": [
       "(2015, 16)"
      ]
     },
     "execution_count": 3,
     "metadata": {},
     "output_type": "execute_result"
    }
   ],
   "source": [
    "df.shape"
   ]
  },
  {
   "cell_type": "code",
   "execution_count": 4,
   "metadata": {},
   "outputs": [
    {
     "data": {
      "text/html": [
       "<div>\n",
       "<style scoped>\n",
       "    .dataframe tbody tr th:only-of-type {\n",
       "        vertical-align: middle;\n",
       "    }\n",
       "\n",
       "    .dataframe tbody tr th {\n",
       "        vertical-align: top;\n",
       "    }\n",
       "\n",
       "    .dataframe thead th {\n",
       "        text-align: right;\n",
       "    }\n",
       "</style>\n",
       "<table border=\"1\" class=\"dataframe\">\n",
       "  <thead>\n",
       "    <tr style=\"text-align: right;\">\n",
       "      <th></th>\n",
       "      <th>Maximum Temperature</th>\n",
       "      <th>Minimum Temperature</th>\n",
       "      <th>Temperature</th>\n",
       "      <th>Wind Chill</th>\n",
       "      <th>Heat Index</th>\n",
       "      <th>Wind Speed</th>\n",
       "      <th>Wind Direction</th>\n",
       "      <th>Wind Gust</th>\n",
       "      <th>Visibility</th>\n",
       "      <th>Cloud Cover</th>\n",
       "      <th>Relative Humidity</th>\n",
       "      <th>Sea Level Pressure</th>\n",
       "      <th>Dew Point</th>\n",
       "      <th>Precipitation</th>\n",
       "    </tr>\n",
       "  </thead>\n",
       "  <tbody>\n",
       "    <tr>\n",
       "      <th>count</th>\n",
       "      <td>2015.000000</td>\n",
       "      <td>2015.000000</td>\n",
       "      <td>2015.000000</td>\n",
       "      <td>214.000000</td>\n",
       "      <td>1493.00000</td>\n",
       "      <td>2015.000000</td>\n",
       "      <td>2015.000000</td>\n",
       "      <td>602.000000</td>\n",
       "      <td>2015.000000</td>\n",
       "      <td>2015.000000</td>\n",
       "      <td>2015.000000</td>\n",
       "      <td>2015.000000</td>\n",
       "      <td>2015.000000</td>\n",
       "      <td>2015.000000</td>\n",
       "    </tr>\n",
       "    <tr>\n",
       "      <th>mean</th>\n",
       "      <td>31.550273</td>\n",
       "      <td>19.832407</td>\n",
       "      <td>25.406948</td>\n",
       "      <td>6.754206</td>\n",
       "      <td>38.76497</td>\n",
       "      <td>16.754938</td>\n",
       "      <td>165.753831</td>\n",
       "      <td>37.512292</td>\n",
       "      <td>2.598362</td>\n",
       "      <td>31.260149</td>\n",
       "      <td>62.815112</td>\n",
       "      <td>1008.125161</td>\n",
       "      <td>16.418511</td>\n",
       "      <td>4.035841</td>\n",
       "    </tr>\n",
       "    <tr>\n",
       "      <th>std</th>\n",
       "      <td>7.022688</td>\n",
       "      <td>7.666693</td>\n",
       "      <td>7.339150</td>\n",
       "      <td>1.876255</td>\n",
       "      <td>6.85477</td>\n",
       "      <td>8.415632</td>\n",
       "      <td>66.884198</td>\n",
       "      <td>7.901125</td>\n",
       "      <td>0.860955</td>\n",
       "      <td>26.326045</td>\n",
       "      <td>17.158841</td>\n",
       "      <td>7.433084</td>\n",
       "      <td>6.488058</td>\n",
       "      <td>12.567731</td>\n",
       "    </tr>\n",
       "    <tr>\n",
       "      <th>min</th>\n",
       "      <td>9.100000</td>\n",
       "      <td>3.000000</td>\n",
       "      <td>6.600000</td>\n",
       "      <td>0.900000</td>\n",
       "      <td>26.10000</td>\n",
       "      <td>5.200000</td>\n",
       "      <td>27.540000</td>\n",
       "      <td>27.700000</td>\n",
       "      <td>0.100000</td>\n",
       "      <td>0.000000</td>\n",
       "      <td>16.140000</td>\n",
       "      <td>990.000000</td>\n",
       "      <td>1.300000</td>\n",
       "      <td>0.000000</td>\n",
       "    </tr>\n",
       "    <tr>\n",
       "      <th>25%</th>\n",
       "      <td>26.200000</td>\n",
       "      <td>13.000000</td>\n",
       "      <td>19.050000</td>\n",
       "      <td>5.525000</td>\n",
       "      <td>32.90000</td>\n",
       "      <td>12.200000</td>\n",
       "      <td>107.790000</td>\n",
       "      <td>33.500000</td>\n",
       "      <td>2.000000</td>\n",
       "      <td>5.550000</td>\n",
       "      <td>52.155000</td>\n",
       "      <td>1001.500000</td>\n",
       "      <td>11.200000</td>\n",
       "      <td>0.000000</td>\n",
       "    </tr>\n",
       "    <tr>\n",
       "      <th>50%</th>\n",
       "      <td>33.000000</td>\n",
       "      <td>21.500000</td>\n",
       "      <td>27.600000</td>\n",
       "      <td>7.200000</td>\n",
       "      <td>39.40000</td>\n",
       "      <td>16.000000</td>\n",
       "      <td>159.470000</td>\n",
       "      <td>35.300000</td>\n",
       "      <td>2.800000</td>\n",
       "      <td>28.100000</td>\n",
       "      <td>65.130000</td>\n",
       "      <td>1007.900000</td>\n",
       "      <td>15.100000</td>\n",
       "      <td>0.000000</td>\n",
       "    </tr>\n",
       "    <tr>\n",
       "      <th>75%</th>\n",
       "      <td>36.700000</td>\n",
       "      <td>26.800000</td>\n",
       "      <td>31.200000</td>\n",
       "      <td>8.275000</td>\n",
       "      <td>44.20000</td>\n",
       "      <td>20.100000</td>\n",
       "      <td>223.000000</td>\n",
       "      <td>40.700000</td>\n",
       "      <td>3.300000</td>\n",
       "      <td>52.450000</td>\n",
       "      <td>75.060000</td>\n",
       "      <td>1014.750000</td>\n",
       "      <td>23.000000</td>\n",
       "      <td>0.400000</td>\n",
       "    </tr>\n",
       "    <tr>\n",
       "      <th>max</th>\n",
       "      <td>47.000000</td>\n",
       "      <td>34.600000</td>\n",
       "      <td>39.400000</td>\n",
       "      <td>9.700000</td>\n",
       "      <td>57.90000</td>\n",
       "      <td>203.800000</td>\n",
       "      <td>311.420000</td>\n",
       "      <td>85.300000</td>\n",
       "      <td>4.900000</td>\n",
       "      <td>100.000000</td>\n",
       "      <td>98.830000</td>\n",
       "      <td>1023.100000</td>\n",
       "      <td>28.000000</td>\n",
       "      <td>131.650000</td>\n",
       "    </tr>\n",
       "  </tbody>\n",
       "</table>\n",
       "</div>"
      ],
      "text/plain": [
       "       Maximum Temperature  Minimum Temperature  Temperature  Wind Chill  \\\n",
       "count          2015.000000          2015.000000  2015.000000  214.000000   \n",
       "mean             31.550273            19.832407    25.406948    6.754206   \n",
       "std               7.022688             7.666693     7.339150    1.876255   \n",
       "min               9.100000             3.000000     6.600000    0.900000   \n",
       "25%              26.200000            13.000000    19.050000    5.525000   \n",
       "50%              33.000000            21.500000    27.600000    7.200000   \n",
       "75%              36.700000            26.800000    31.200000    8.275000   \n",
       "max              47.000000            34.600000    39.400000    9.700000   \n",
       "\n",
       "       Heat Index   Wind Speed  Wind Direction   Wind Gust   Visibility  \\\n",
       "count  1493.00000  2015.000000     2015.000000  602.000000  2015.000000   \n",
       "mean     38.76497    16.754938      165.753831   37.512292     2.598362   \n",
       "std       6.85477     8.415632       66.884198    7.901125     0.860955   \n",
       "min      26.10000     5.200000       27.540000   27.700000     0.100000   \n",
       "25%      32.90000    12.200000      107.790000   33.500000     2.000000   \n",
       "50%      39.40000    16.000000      159.470000   35.300000     2.800000   \n",
       "75%      44.20000    20.100000      223.000000   40.700000     3.300000   \n",
       "max      57.90000   203.800000      311.420000   85.300000     4.900000   \n",
       "\n",
       "       Cloud Cover  Relative Humidity  Sea Level Pressure    Dew Point  \\\n",
       "count  2015.000000        2015.000000         2015.000000  2015.000000   \n",
       "mean     31.260149          62.815112         1008.125161    16.418511   \n",
       "std      26.326045          17.158841            7.433084     6.488058   \n",
       "min       0.000000          16.140000          990.000000     1.300000   \n",
       "25%       5.550000          52.155000         1001.500000    11.200000   \n",
       "50%      28.100000          65.130000         1007.900000    15.100000   \n",
       "75%      52.450000          75.060000         1014.750000    23.000000   \n",
       "max     100.000000          98.830000         1023.100000    28.000000   \n",
       "\n",
       "       Precipitation  \n",
       "count    2015.000000  \n",
       "mean        4.035841  \n",
       "std        12.567731  \n",
       "min         0.000000  \n",
       "25%         0.000000  \n",
       "50%         0.000000  \n",
       "75%         0.400000  \n",
       "max       131.650000  "
      ]
     },
     "execution_count": 4,
     "metadata": {},
     "output_type": "execute_result"
    }
   ],
   "source": [
    "df.describe()"
   ]
  },
  {
   "cell_type": "markdown",
   "metadata": {},
   "source": [
    "**Checking the different types of features**"
   ]
  },
  {
   "cell_type": "code",
   "execution_count": 5,
   "metadata": {},
   "outputs": [
    {
     "name": "stdout",
     "output_type": "stream",
     "text": [
      "Numerical Features Count 15\n",
      "Discrete feature Count 0\n",
      "Datetime feature Count 1\n",
      "Continuous feature Count 14\n",
      "Categorical feature Count 1\n"
     ]
    }
   ],
   "source": [
    "numerical_feature=[feature for feature in df.columns if df[feature].dtypes!='O']\n",
    "discrete_feature=[feature for feature in numerical_feature if len(df[feature].unique())<25]\n",
    "datetime_feature=[feature for feature in df.columns if 'Date' in feature]\n",
    "continuous_feature=[feature for feature in numerical_feature if feature not in discrete_feature + datetime_feature]\n",
    "categorical_feature=[feature for feature in df.columns if feature not in numerical_feature]\n",
    "print(\"Numerical Features Count {}\".format(len(numerical_feature)))\n",
    "print(\"Discrete feature Count {}\".format(len(discrete_feature)))\n",
    "print(\"Datetime feature Count {}\".format(len(datetime_feature)))\n",
    "print(\"Continuous feature Count {}\".format(len(continuous_feature)))\n",
    "print(\"Categorical feature Count {}\".format(len(categorical_feature)))"
   ]
  },
  {
   "cell_type": "code",
   "execution_count": 6,
   "metadata": {},
   "outputs": [
    {
     "data": {
      "text/plain": [
       "['Maximum Temperature',\n",
       " 'Minimum Temperature',\n",
       " 'Temperature',\n",
       " 'Wind Chill',\n",
       " 'Heat Index',\n",
       " 'Wind Speed',\n",
       " 'Wind Direction',\n",
       " 'Wind Gust',\n",
       " 'Visibility',\n",
       " 'Cloud Cover',\n",
       " 'Relative Humidity',\n",
       " 'Sea Level Pressure',\n",
       " 'Dew Point',\n",
       " 'Precipitation']"
      ]
     },
     "execution_count": 6,
     "metadata": {},
     "output_type": "execute_result"
    }
   ],
   "source": [
    "continuous_feature"
   ]
  },
  {
   "cell_type": "code",
   "execution_count": 7,
   "metadata": {},
   "outputs": [
    {
     "data": {
      "text/plain": [
       "['Conditions']"
      ]
     },
     "execution_count": 7,
     "metadata": {},
     "output_type": "execute_result"
    }
   ],
   "source": [
    "categorical_feature"
   ]
  },
  {
   "cell_type": "code",
   "execution_count": 8,
   "metadata": {},
   "outputs": [
    {
     "data": {
      "text/plain": [
       "['Date time']"
      ]
     },
     "execution_count": 8,
     "metadata": {},
     "output_type": "execute_result"
    }
   ],
   "source": [
    "datetime_feature"
   ]
  },
  {
   "cell_type": "markdown",
   "metadata": {},
   "source": [
    "# EDA Exploratory Data Analysis"
   ]
  },
  {
   "cell_type": "markdown",
   "metadata": {},
   "source": [
    "**Continuous Feature**"
   ]
  },
  {
   "cell_type": "code",
   "execution_count": 9,
   "metadata": {},
   "outputs": [
    {
     "data": {
      "image/png": "[encoded data removed]",
      "text/plain": [
       "<Figure size 432x288 with 1 Axes>"
      ]
     },
     "metadata": {
      "needs_background": "light"
     },
     "output_type": "display_data"
    },
    {
     "data": {
      "image/png": "[encoded data removed]",
      "text/plain": [
       "<Figure size 432x288 with 1 Axes>"
      ]
     },
     "metadata": {
      "needs_background": "light"
     },
     "output_type": "display_data"
    },
    {
     "data": {
      "image/png": "[encoded data removed]",
      "text/plain": [
       "<Figure size 432x288 with 1 Axes>"
      ]
     },
     "metadata": {
      "needs_background": "light"
     },
     "output_type": "display_data"
    },
    {
     "data": {
      "image/png": "[encoded data removed]",
      "text/plain": [
       "<Figure size 432x288 with 1 Axes>"
      ]
     },
     "metadata": {
      "needs_background": "light"
     },
     "output_type": "display_data"
    },
    {
     "data": {
      "image/png": "[encoded data removed]",
      "text/plain": [
       "<Figure size 432x288 with 1 Axes>"
      ]
     },
     "metadata": {
      "needs_background": "light"
     },
     "output_type": "display_data"
    },
    {
     "data": {
      "image/png": "[encoded data removed]",
      "text/plain": [
       "<Figure size 432x288 with 1 Axes>"
      ]
     },
     "metadata": {
      "needs_background": "light"
     },
     "output_type": "display_data"
    },
    {
     "data": {
      "image/png": "[encoded data removed]",
      "text/plain": [
       "<Figure size 432x288 with 1 Axes>"
      ]
     },
     "metadata": {
      "needs_background": "light"
     },
     "output_type": "display_data"
    },
    {
     "data": {
      "image/png": "[encoded data removed]",
      "text/plain": [
       "<Figure size 432x288 with 1 Axes>"
      ]
     },
     "metadata": {
      "needs_background": "light"
     },
     "output_type": "display_data"
    },
    {
     "data": {
      "image/png": "[encoded data removed]",
      "text/plain": [
       "<Figure size 432x288 with 1 Axes>"
      ]
     },
     "metadata": {
      "needs_background": "light"
     },
     "output_type": "display_data"
    },
    {
     "data": {
      "image/png": "[encoded data removed]",
      "text/plain": [
       "<Figure size 432x288 with 1 Axes>"
      ]
     },
     "metadata": {
      "needs_background": "light"
     },
     "output_type": "display_data"
    },
    {
     "data": {
      "image/png": "[encoded data removed]",
      "text/plain": [
       "<Figure size 432x288 with 1 Axes>"
      ]
     },
     "metadata": {
      "needs_background": "light"
     },
     "output_type": "display_data"
    },
    {
     "data": {
      "image/png": "[encoded data removed]",
      "text/plain": [
       "<Figure size 432x288 with 1 Axes>"
      ]
     },
     "metadata": {
      "needs_background": "light"
     },
     "output_type": "display_data"
    },
    {
     "data": {
      "image/png": "[encoded data removed]",
      "text/plain": [
       "<Figure size 432x288 with 1 Axes>"
      ]
     },
     "metadata": {
      "needs_background": "light"
     },
     "output_type": "display_data"
    },
    {
     "data": {
      "image/png": "[encoded data removed]",
      "text/plain": [
       "<Figure size 432x288 with 1 Axes>"
      ]
     },
     "metadata": {
      "needs_background": "light"
     },
     "output_type": "display_data"
    }
   ],
   "source": [
    "#distribution plot for continuous features\n",
    "for feature in continuous_feature:\n",
    "    data=df.copy()\n",
    "    sns.distplot(df[feature])\n",
    "    plt.xlabel(feature)\n",
    "    plt.ylabel('Count')\n",
    "    plt.show()"
   ]
  },
  {
   "cell_type": "markdown",
   "metadata": {},
   "source": [
    "**What we can infer from these data distribution plot**\n",
    "\n",
    "most of the features are skewed and not following gaussian distribution so we need to normalise them"
   ]
  },
  {
   "cell_type": "code",
   "execution_count": 10,
   "metadata": {
    "scrolled": false
   },
   "outputs": [
    {
     "data": {
      "image/png": "[encoded data removed]",
      "text/plain": [
       "<Figure size 432x288 with 1 Axes>"
      ]
     },
     "metadata": {
      "needs_background": "light"
     },
     "output_type": "display_data"
    },
    {
     "data": {
      "image/png": "[encoded data removed]",
      "text/plain": [
       "<Figure size 432x288 with 1 Axes>"
      ]
     },
     "metadata": {
      "needs_background": "light"
     },
     "output_type": "display_data"
    },
    {
     "data": {
      "image/png": "[encoded data removed]",
      "text/plain": [
       "<Figure size 432x288 with 1 Axes>"
      ]
     },
     "metadata": {
      "needs_background": "light"
     },
     "output_type": "display_data"
    },
    {
     "data": {
      "image/png": "[encoded data removed]",
      "text/plain": [
       "<Figure size 432x288 with 1 Axes>"
      ]
     },
     "metadata": {
      "needs_background": "light"
     },
     "output_type": "display_data"
    },
    {
     "data": {
      "image/png": "[encoded data removed]",
      "text/plain": [
       "<Figure size 432x288 with 1 Axes>"
      ]
     },
     "metadata": {
      "needs_background": "light"
     },
     "output_type": "display_data"
    },
    {
     "data": {
      "image/png": "[encoded data removed]",
      "text/plain": [
       "<Figure size 432x288 with 1 Axes>"
      ]
     },
     "metadata": {
      "needs_background": "light"
     },
     "output_type": "display_data"
    },
    {
     "data": {
      "image/png": "[encoded data removed]",
      "text/plain": [
       "<Figure size 432x288 with 1 Axes>"
      ]
     },
     "metadata": {
      "needs_background": "light"
     },
     "output_type": "display_data"
    },
    {
     "data": {
      "image/png": "[encoded data removed]",
      "text/plain": [
       "<Figure size 432x288 with 1 Axes>"
      ]
     },
     "metadata": {
      "needs_background": "light"
     },
     "output_type": "display_data"
    },
    {
     "data": {
      "image/png": "[encoded data removed]",
      "text/plain": [
       "<Figure size 432x288 with 1 Axes>"
      ]
     },
     "metadata": {
      "needs_background": "light"
     },
     "output_type": "display_data"
    },
    {
     "data": {
      "image/png": "[encoded data removed]",
      "text/plain": [
       "<Figure size 432x288 with 1 Axes>"
      ]
     },
     "metadata": {
      "needs_background": "light"
     },
     "output_type": "display_data"
    },
    {
     "data": {
      "image/png": "[encoded data removed]",
      "text/plain": [
       "<Figure size 432x288 with 1 Axes>"
      ]
     },
     "metadata": {
      "needs_background": "light"
     },
     "output_type": "display_data"
    },
    {
     "data": {
      "image/png": "[encoded data removed]",
      "text/plain": [
       "<Figure size 432x288 with 1 Axes>"
      ]
     },
     "metadata": {
      "needs_background": "light"
     },
     "output_type": "display_data"
    },
    {
     "data": {
      "image/png": "[encoded data removed]",
      "text/plain": [
       "<Figure size 432x288 with 1 Axes>"
      ]
     },
     "metadata": {
      "needs_background": "light"
     },
     "output_type": "display_data"
    },
    {
     "data": {
      "image/png": "[encoded data removed]",
      "text/plain": [
       "<Figure size 432x288 with 1 Axes>"
      ]
     },
     "metadata": {
      "needs_background": "light"
     },
     "output_type": "display_data"
    }
   ],
   "source": [
    "for feature in continuous_feature:\n",
    "    data=df.copy()\n",
    "    data[feature]=np.log1p(data[feature])\n",
    "    sns.distplot(data[feature])\n",
    "    plt.xlabel(feature)\n",
    "    plt.ylabel('Count')\n",
    "    plt.show()"
   ]
  },
  {
   "cell_type": "code",
   "execution_count": 11,
   "metadata": {},
   "outputs": [
    {
     "data": {
      "image/png": "[encoded data removed]",
      "text/plain": [
       "<Figure size 432x288 with 1 Axes>"
      ]
     },
     "metadata": {
      "needs_background": "light"
     },
     "output_type": "display_data"
    },
    {
     "data": {
      "image/png": "[encoded data removed]",
      "text/plain": [
       "<Figure size 432x288 with 1 Axes>"
      ]
     },
     "metadata": {
      "needs_background": "light"
     },
     "output_type": "display_data"
    },
    {
     "data": {
      "image/png": "[encoded data removed]",
      "text/plain": [
       "<Figure size 432x288 with 1 Axes>"
      ]
     },
     "metadata": {
      "needs_background": "light"
     },
     "output_type": "display_data"
    },
    {
     "data": {
      "image/png": "[encoded data removed]",
      "text/plain": [
       "<Figure size 432x288 with 1 Axes>"
      ]
     },
     "metadata": {
      "needs_background": "light"
     },
     "output_type": "display_data"
    },
    {
     "data": {
      "image/png": "[encoded data removed]",
      "text/plain": [
       "<Figure size 432x288 with 1 Axes>"
      ]
     },
     "metadata": {
      "needs_background": "light"
     },
     "output_type": "display_data"
    },
    {
     "data": {
      "image/png": "[encoded data removed]",
      "text/plain": [
       "<Figure size 432x288 with 1 Axes>"
      ]
     },
     "metadata": {
      "needs_background": "light"
     },
     "output_type": "display_data"
    },
    {
     "data": {
      "image/png": "[encoded data removed]",
      "text/plain": [
       "<Figure size 432x288 with 1 Axes>"
      ]
     },
     "metadata": {
      "needs_background": "light"
     },
     "output_type": "display_data"
    },
    {
     "data": {
      "image/png": "[encoded data removed]",
      "text/plain": [
       "<Figure size 432x288 with 1 Axes>"
      ]
     },
     "metadata": {
      "needs_background": "light"
     },
     "output_type": "display_data"
    },
    {
     "data": {
      "image/png": "[encoded data removed]",
      "text/plain": [
       "<Figure size 432x288 with 1 Axes>"
      ]
     },
     "metadata": {
      "needs_background": "light"
     },
     "output_type": "display_data"
    },
    {
     "data": {
      "image/png": "[encoded data removed]",
      "text/plain": [
       "<Figure size 432x288 with 1 Axes>"
      ]
     },
     "metadata": {
      "needs_background": "light"
     },
     "output_type": "display_data"
    },
    {
     "data": {
      "image/png": "[encoded data removed]",
      "text/plain": [
       "<Figure size 432x288 with 1 Axes>"
      ]
     },
     "metadata": {
      "needs_background": "light"
     },
     "output_type": "display_data"
    },
    {
     "data": {
      "image/png": "[encoded data removed]",
      "text/plain": [
       "<Figure size 432x288 with 1 Axes>"
      ]
     },
     "metadata": {
      "needs_background": "light"
     },
     "output_type": "display_data"
    },
    {
     "data": {
      "image/png": "[encoded data removed]",
      "text/plain": [
       "<Figure size 432x288 with 1 Axes>"
      ]
     },
     "metadata": {
      "needs_background": "light"
     },
     "output_type": "display_data"
    },
    {
     "data": {
      "image/png": "[encoded data removed]",
      "text/plain": [
       "<Figure size 432x288 with 1 Axes>"
      ]
     },
     "metadata": {
      "needs_background": "light"
     },
     "output_type": "display_data"
    }
   ],
   "source": [
    "#box plot to check outliers\n",
    "for feature in continuous_feature:\n",
    "    data=df.copy()\n",
    "    data.boxplot(column=feature)\n",
    "    plt.ylabel('Count')\n",
    "    plt.show()"
   ]
  },
  {
   "cell_type": "markdown",
   "metadata": {},
   "source": [
    "**Insights to be drawn from here**\n",
    "1. windspeed and wind gust has few outliers\n",
    "so these outliers can distort the distribution and affect prediction so we have to remove these feature or outlier if required"
   ]
  },
  {
   "cell_type": "markdown",
   "metadata": {},
   "source": [
    "**Handling Outliers**"
   ]
  },
  {
   "cell_type": "code",
   "execution_count": 12,
   "metadata": {},
   "outputs": [
    {
     "name": "stdout",
     "output_type": "stream",
     "text": [
      "10.449999999999994 52.45000000000001\n"
     ]
    }
   ],
   "source": [
    "IQR=df['Maximum Temperature'].quantile(0.75)-df['Maximum Temperature'].quantile(0.25)\n",
    "lower_bridge=df['Maximum Temperature'].quantile(0.25)-(IQR*1.5)\n",
    "upper_bridge=df['Maximum Temperature'].quantile(0.75)+(IQR*1.5)\n",
    "print(lower_bridge, upper_bridge)"
   ]
  },
  {
   "cell_type": "code",
   "execution_count": 13,
   "metadata": {},
   "outputs": [],
   "source": [
    "df.loc[df['Maximum Temperature']<=10.45,'Maximum Temperature']=10.45"
   ]
  },
  {
   "cell_type": "code",
   "execution_count": 14,
   "metadata": {},
   "outputs": [
    {
     "name": "stdout",
     "output_type": "stream",
     "text": [
      "0.3499999999999961 31.950000000000003\n"
     ]
    }
   ],
   "source": [
    "IQR=df['Wind Speed'].quantile(0.75)-df['Wind Speed'].quantile(0.25)\n",
    "lower_bridge=df['Wind Speed'].quantile(0.25)-(IQR*1.5)\n",
    "upper_bridge=df['Wind Speed'].quantile(0.75)+(IQR*1.5)\n",
    "print(lower_bridge, upper_bridge)"
   ]
  },
  {
   "cell_type": "code",
   "execution_count": 15,
   "metadata": {},
   "outputs": [],
   "source": [
    "df.loc[df['Wind Speed']>=31.95,'Wind Speed']=31.95"
   ]
  },
  {
   "cell_type": "code",
   "execution_count": 16,
   "metadata": {},
   "outputs": [
    {
     "name": "stdout",
     "output_type": "stream",
     "text": [
      "17.7975 109.4175\n"
     ]
    }
   ],
   "source": [
    "IQR=df['Relative Humidity'].quantile(0.75)-df['Relative Humidity'].quantile(0.25)\n",
    "lower_bridge=df['Relative Humidity'].quantile(0.25)-(IQR*1.5)\n",
    "upper_bridge=df['Relative Humidity'].quantile(0.75)+(IQR*1.5)\n",
    "print(lower_bridge, upper_bridge)"
   ]
  },
  {
   "cell_type": "code",
   "execution_count": 17,
   "metadata": {},
   "outputs": [],
   "source": [
    "df.loc[df['Relative Humidity']<=17.80,'Relative Humidity']=17.80"
   ]
  },
  {
   "cell_type": "code",
   "execution_count": 18,
   "metadata": {},
   "outputs": [
    {
     "data": {
      "image/png": "[encoded data removed]",
      "text/plain": [
       "<Figure size 432x288 with 1 Axes>"
      ]
     },
     "metadata": {
      "needs_background": "light"
     },
     "output_type": "display_data"
    },
    {
     "data": {
      "image/png": "[encoded data removed]",
      "text/plain": [
       "<Figure size 432x288 with 1 Axes>"
      ]
     },
     "metadata": {
      "needs_background": "light"
     },
     "output_type": "display_data"
    },
    {
     "data": {
      "image/png": "[encoded data removed]",
      "text/plain": [
       "<Figure size 432x288 with 1 Axes>"
      ]
     },
     "metadata": {
      "needs_background": "light"
     },
     "output_type": "display_data"
    },
    {
     "data": {
      "image/png": "[encoded data removed]",
      "text/plain": [
       "<Figure size 432x288 with 1 Axes>"
      ]
     },
     "metadata": {
      "needs_background": "light"
     },
     "output_type": "display_data"
    },
    {
     "data": {
      "image/png": "[encoded data removed]",
      "text/plain": [
       "<Figure size 432x288 with 1 Axes>"
      ]
     },
     "metadata": {
      "needs_background": "light"
     },
     "output_type": "display_data"
    },
    {
     "data": {
      "image/png": "[encoded data removed]",
      "text/plain": [
       "<Figure size 432x288 with 1 Axes>"
      ]
     },
     "metadata": {
      "needs_background": "light"
     },
     "output_type": "display_data"
    },
    {
     "data": {
      "image/png": "[encoded data removed]",
      "text/plain": [
       "<Figure size 432x288 with 1 Axes>"
      ]
     },
     "metadata": {
      "needs_background": "light"
     },
     "output_type": "display_data"
    },
    {
     "data": {
      "image/png": "[encoded data removed]",
      "text/plain": [
       "<Figure size 432x288 with 1 Axes>"
      ]
     },
     "metadata": {
      "needs_background": "light"
     },
     "output_type": "display_data"
    },
    {
     "data": {
      "image/png": "[encoded data removed]",
      "text/plain": [
       "<Figure size 432x288 with 1 Axes>"
      ]
     },
     "metadata": {
      "needs_background": "light"
     },
     "output_type": "display_data"
    },
    {
     "data": {
      "image/png": "[encoded data removed]",
      "text/plain": [
       "<Figure size 432x288 with 1 Axes>"
      ]
     },
     "metadata": {
      "needs_background": "light"
     },
     "output_type": "display_data"
    },
    {
     "data": {
      "image/png": "[encoded data removed]",
      "text/plain": [
       "<Figure size 432x288 with 1 Axes>"
      ]
     },
     "metadata": {
      "needs_background": "light"
     },
     "output_type": "display_data"
    },
    {
     "data": {
      "image/png": "[encoded data removed]",
      "text/plain": [
       "<Figure size 432x288 with 1 Axes>"
      ]
     },
     "metadata": {
      "needs_background": "light"
     },
     "output_type": "display_data"
    },
    {
     "data": {
      "image/png": "[encoded data removed]",
      "text/plain": [
       "<Figure size 432x288 with 1 Axes>"
      ]
     },
     "metadata": {
      "needs_background": "light"
     },
     "output_type": "display_data"
    },
    {
     "data": {
      "image/png": "[encoded data removed]",
      "text/plain": [
       "<Figure size 432x288 with 1 Axes>"
      ]
     },
     "metadata": {
      "needs_background": "light"
     },
     "output_type": "display_data"
    }
   ],
   "source": [
    "for feature in continuous_feature:\n",
    "    data=df.copy()\n",
    "    data.boxplot(column=feature)\n",
    "    plt.ylabel('Count')\n",
    "    plt.show()"
   ]
  },
  {
   "cell_type": "markdown",
   "metadata": {},
   "source": [
    "**Categorical Feature**"
   ]
  },
  {
   "cell_type": "code",
   "execution_count": 19,
   "metadata": {},
   "outputs": [
    {
     "data": {
      "text/plain": [
       "Clear                     907\n",
       "Partially cloudy          547\n",
       "Rain, Partially cloudy    427\n",
       "Rain, Overcast             99\n",
       "Rain                       27\n",
       "Overcast                    8\n",
       "Name: Conditions, dtype: int64"
      ]
     },
     "execution_count": 19,
     "metadata": {},
     "output_type": "execute_result"
    }
   ],
   "source": [
    "data=df.copy()\n",
    "data['Conditions'].value_counts()"
   ]
  },
  {
   "cell_type": "code",
   "execution_count": 20,
   "metadata": {},
   "outputs": [],
   "source": [
    "#for loop for separating two weather conditions into 2 columns\n",
    "def sep_weather(dataframe,condition):\n",
    "    conditions=list(dataframe[condition])\n",
    "    condition1=[]\n",
    "    condition2=[]\n",
    "    for i in range(len(conditions)):\n",
    "        condition1.append(conditions[i].split(sep=',')[0])\n",
    "        \n",
    "        if len(conditions[i].split(sep=','))==2:\n",
    "            condition2.append(conditions[i].split(sep=',')[1].strip())\n",
    "        \n",
    "        else:\n",
    "            condition2.append(np.nan)\n",
    "            \n",
    "    dataframe['Condition1']=condition1\n",
    "    dataframe['Condition2']=condition2"
   ]
  },
  {
   "cell_type": "code",
   "execution_count": 21,
   "metadata": {},
   "outputs": [],
   "source": [
    "sep_weather(df,'Conditions')"
   ]
  },
  {
   "cell_type": "code",
   "execution_count": 22,
   "metadata": {},
   "outputs": [
    {
     "data": {
      "text/html": [
       "<div>\n",
       "<style scoped>\n",
       "    .dataframe tbody tr th:only-of-type {\n",
       "        vertical-align: middle;\n",
       "    }\n",
       "\n",
       "    .dataframe tbody tr th {\n",
       "        vertical-align: top;\n",
       "    }\n",
       "\n",
       "    .dataframe thead th {\n",
       "        text-align: right;\n",
       "    }\n",
       "</style>\n",
       "<table border=\"1\" class=\"dataframe\">\n",
       "  <thead>\n",
       "    <tr style=\"text-align: right;\">\n",
       "      <th></th>\n",
       "      <th>Date time</th>\n",
       "      <th>Maximum Temperature</th>\n",
       "      <th>Minimum Temperature</th>\n",
       "      <th>Temperature</th>\n",
       "      <th>Wind Chill</th>\n",
       "      <th>Heat Index</th>\n",
       "      <th>Wind Speed</th>\n",
       "      <th>Wind Direction</th>\n",
       "      <th>Wind Gust</th>\n",
       "      <th>Visibility</th>\n",
       "      <th>Cloud Cover</th>\n",
       "      <th>Relative Humidity</th>\n",
       "      <th>Sea Level Pressure</th>\n",
       "      <th>Dew Point</th>\n",
       "      <th>Precipitation</th>\n",
       "      <th>Condition1</th>\n",
       "    </tr>\n",
       "  </thead>\n",
       "  <tbody>\n",
       "    <tr>\n",
       "      <th>0</th>\n",
       "      <td>2016-01-01</td>\n",
       "      <td>23.8</td>\n",
       "      <td>8.0</td>\n",
       "      <td>14.8</td>\n",
       "      <td>8.5</td>\n",
       "      <td>NaN</td>\n",
       "      <td>7.6</td>\n",
       "      <td>125.52</td>\n",
       "      <td>NaN</td>\n",
       "      <td>1.0</td>\n",
       "      <td>28.6</td>\n",
       "      <td>73.11</td>\n",
       "      <td>1021.3</td>\n",
       "      <td>9.3</td>\n",
       "      <td>0.0</td>\n",
       "      <td>Partially cloudy</td>\n",
       "    </tr>\n",
       "    <tr>\n",
       "      <th>1</th>\n",
       "      <td>2016-01-02</td>\n",
       "      <td>21.8</td>\n",
       "      <td>8.3</td>\n",
       "      <td>14.6</td>\n",
       "      <td>NaN</td>\n",
       "      <td>NaN</td>\n",
       "      <td>13.0</td>\n",
       "      <td>153.29</td>\n",
       "      <td>NaN</td>\n",
       "      <td>1.2</td>\n",
       "      <td>11.4</td>\n",
       "      <td>73.29</td>\n",
       "      <td>1021.3</td>\n",
       "      <td>9.9</td>\n",
       "      <td>0.0</td>\n",
       "      <td>Clear</td>\n",
       "    </tr>\n",
       "    <tr>\n",
       "      <th>2</th>\n",
       "      <td>2016-01-03</td>\n",
       "      <td>22.1</td>\n",
       "      <td>8.0</td>\n",
       "      <td>13.9</td>\n",
       "      <td>6.8</td>\n",
       "      <td>NaN</td>\n",
       "      <td>14.8</td>\n",
       "      <td>180.04</td>\n",
       "      <td>NaN</td>\n",
       "      <td>0.9</td>\n",
       "      <td>3.7</td>\n",
       "      <td>75.24</td>\n",
       "      <td>1018.7</td>\n",
       "      <td>8.8</td>\n",
       "      <td>0.0</td>\n",
       "      <td>Clear</td>\n",
       "    </tr>\n",
       "    <tr>\n",
       "      <th>3</th>\n",
       "      <td>2016-01-04</td>\n",
       "      <td>23.2</td>\n",
       "      <td>8.0</td>\n",
       "      <td>15.4</td>\n",
       "      <td>NaN</td>\n",
       "      <td>NaN</td>\n",
       "      <td>7.6</td>\n",
       "      <td>56.61</td>\n",
       "      <td>NaN</td>\n",
       "      <td>0.7</td>\n",
       "      <td>22.1</td>\n",
       "      <td>75.10</td>\n",
       "      <td>1018.0</td>\n",
       "      <td>10.5</td>\n",
       "      <td>0.0</td>\n",
       "      <td>Clear</td>\n",
       "    </tr>\n",
       "    <tr>\n",
       "      <th>4</th>\n",
       "      <td>2016-01-05</td>\n",
       "      <td>26.3</td>\n",
       "      <td>11.3</td>\n",
       "      <td>18.1</td>\n",
       "      <td>NaN</td>\n",
       "      <td>NaN</td>\n",
       "      <td>9.4</td>\n",
       "      <td>77.04</td>\n",
       "      <td>NaN</td>\n",
       "      <td>1.1</td>\n",
       "      <td>46.1</td>\n",
       "      <td>71.74</td>\n",
       "      <td>1017.1</td>\n",
       "      <td>12.3</td>\n",
       "      <td>0.0</td>\n",
       "      <td>Partially cloudy</td>\n",
       "    </tr>\n",
       "  </tbody>\n",
       "</table>\n",
       "</div>"
      ],
      "text/plain": [
       "   Date time  Maximum Temperature  Minimum Temperature  Temperature  \\\n",
       "0 2016-01-01                 23.8                  8.0         14.8   \n",
       "1 2016-01-02                 21.8                  8.3         14.6   \n",
       "2 2016-01-03                 22.1                  8.0         13.9   \n",
       "3 2016-01-04                 23.2                  8.0         15.4   \n",
       "4 2016-01-05                 26.3                 11.3         18.1   \n",
       "\n",
       "   Wind Chill  Heat Index  Wind Speed  Wind Direction  Wind Gust  Visibility  \\\n",
       "0         8.5         NaN         7.6          125.52        NaN         1.0   \n",
       "1         NaN         NaN        13.0          153.29        NaN         1.2   \n",
       "2         6.8         NaN        14.8          180.04        NaN         0.9   \n",
       "3         NaN         NaN         7.6           56.61        NaN         0.7   \n",
       "4         NaN         NaN         9.4           77.04        NaN         1.1   \n",
       "\n",
       "   Cloud Cover  Relative Humidity  Sea Level Pressure  Dew Point  \\\n",
       "0         28.6              73.11              1021.3        9.3   \n",
       "1         11.4              73.29              1021.3        9.9   \n",
       "2          3.7              75.24              1018.7        8.8   \n",
       "3         22.1              75.10              1018.0       10.5   \n",
       "4         46.1              71.74              1017.1       12.3   \n",
       "\n",
       "   Precipitation        Condition1  \n",
       "0            0.0  Partially cloudy  \n",
       "1            0.0             Clear  \n",
       "2            0.0             Clear  \n",
       "3            0.0             Clear  \n",
       "4            0.0  Partially cloudy  "
      ]
     },
     "execution_count": 22,
     "metadata": {},
     "output_type": "execute_result"
    }
   ],
   "source": [
    "df.drop(['Conditions','Condition2'],axis=1,inplace=True)\n",
    "df.head()"
   ]
  },
  {
   "cell_type": "code",
   "execution_count": 23,
   "metadata": {},
   "outputs": [
    {
     "data": {
      "text/html": [
       "<div>\n",
       "<style scoped>\n",
       "    .dataframe tbody tr th:only-of-type {\n",
       "        vertical-align: middle;\n",
       "    }\n",
       "\n",
       "    .dataframe tbody tr th {\n",
       "        vertical-align: top;\n",
       "    }\n",
       "\n",
       "    .dataframe thead th {\n",
       "        text-align: right;\n",
       "    }\n",
       "</style>\n",
       "<table border=\"1\" class=\"dataframe\">\n",
       "  <thead>\n",
       "    <tr style=\"text-align: right;\">\n",
       "      <th></th>\n",
       "      <th>Date time</th>\n",
       "      <th>Maximum Temperature</th>\n",
       "      <th>Minimum Temperature</th>\n",
       "      <th>Temperature</th>\n",
       "      <th>Wind Chill</th>\n",
       "      <th>Heat Index</th>\n",
       "      <th>Wind Speed</th>\n",
       "      <th>Wind Direction</th>\n",
       "      <th>Wind Gust</th>\n",
       "      <th>Visibility</th>\n",
       "      <th>Cloud Cover</th>\n",
       "      <th>Relative Humidity</th>\n",
       "      <th>Sea Level Pressure</th>\n",
       "      <th>Dew Point</th>\n",
       "      <th>Precipitation</th>\n",
       "      <th>Condition1</th>\n",
       "    </tr>\n",
       "  </thead>\n",
       "  <tbody>\n",
       "    <tr>\n",
       "      <th>0</th>\n",
       "      <td>2016-01-01</td>\n",
       "      <td>23.8</td>\n",
       "      <td>8.0</td>\n",
       "      <td>14.8</td>\n",
       "      <td>8.5</td>\n",
       "      <td>NaN</td>\n",
       "      <td>7.60</td>\n",
       "      <td>125.52</td>\n",
       "      <td>NaN</td>\n",
       "      <td>1.0</td>\n",
       "      <td>28.6</td>\n",
       "      <td>73.11</td>\n",
       "      <td>1021.3</td>\n",
       "      <td>9.3</td>\n",
       "      <td>0.0</td>\n",
       "      <td>Partially cloudy</td>\n",
       "    </tr>\n",
       "    <tr>\n",
       "      <th>1</th>\n",
       "      <td>2016-01-02</td>\n",
       "      <td>21.8</td>\n",
       "      <td>8.3</td>\n",
       "      <td>14.6</td>\n",
       "      <td>NaN</td>\n",
       "      <td>NaN</td>\n",
       "      <td>13.00</td>\n",
       "      <td>153.29</td>\n",
       "      <td>NaN</td>\n",
       "      <td>1.2</td>\n",
       "      <td>11.4</td>\n",
       "      <td>73.29</td>\n",
       "      <td>1021.3</td>\n",
       "      <td>9.9</td>\n",
       "      <td>0.0</td>\n",
       "      <td>Clear</td>\n",
       "    </tr>\n",
       "    <tr>\n",
       "      <th>2</th>\n",
       "      <td>2016-01-03</td>\n",
       "      <td>22.1</td>\n",
       "      <td>8.0</td>\n",
       "      <td>13.9</td>\n",
       "      <td>6.8</td>\n",
       "      <td>NaN</td>\n",
       "      <td>14.80</td>\n",
       "      <td>180.04</td>\n",
       "      <td>NaN</td>\n",
       "      <td>0.9</td>\n",
       "      <td>3.7</td>\n",
       "      <td>75.24</td>\n",
       "      <td>1018.7</td>\n",
       "      <td>8.8</td>\n",
       "      <td>0.0</td>\n",
       "      <td>Clear</td>\n",
       "    </tr>\n",
       "    <tr>\n",
       "      <th>3</th>\n",
       "      <td>2016-01-04</td>\n",
       "      <td>23.2</td>\n",
       "      <td>8.0</td>\n",
       "      <td>15.4</td>\n",
       "      <td>NaN</td>\n",
       "      <td>NaN</td>\n",
       "      <td>7.60</td>\n",
       "      <td>56.61</td>\n",
       "      <td>NaN</td>\n",
       "      <td>0.7</td>\n",
       "      <td>22.1</td>\n",
       "      <td>75.10</td>\n",
       "      <td>1018.0</td>\n",
       "      <td>10.5</td>\n",
       "      <td>0.0</td>\n",
       "      <td>Clear</td>\n",
       "    </tr>\n",
       "    <tr>\n",
       "      <th>4</th>\n",
       "      <td>2016-01-05</td>\n",
       "      <td>26.3</td>\n",
       "      <td>11.3</td>\n",
       "      <td>18.1</td>\n",
       "      <td>NaN</td>\n",
       "      <td>NaN</td>\n",
       "      <td>9.40</td>\n",
       "      <td>77.04</td>\n",
       "      <td>NaN</td>\n",
       "      <td>1.1</td>\n",
       "      <td>46.1</td>\n",
       "      <td>71.74</td>\n",
       "      <td>1017.1</td>\n",
       "      <td>12.3</td>\n",
       "      <td>0.0</td>\n",
       "      <td>Partially cloudy</td>\n",
       "    </tr>\n",
       "    <tr>\n",
       "      <th>...</th>\n",
       "      <td>...</td>\n",
       "      <td>...</td>\n",
       "      <td>...</td>\n",
       "      <td>...</td>\n",
       "      <td>...</td>\n",
       "      <td>...</td>\n",
       "      <td>...</td>\n",
       "      <td>...</td>\n",
       "      <td>...</td>\n",
       "      <td>...</td>\n",
       "      <td>...</td>\n",
       "      <td>...</td>\n",
       "      <td>...</td>\n",
       "      <td>...</td>\n",
       "      <td>...</td>\n",
       "      <td>...</td>\n",
       "    </tr>\n",
       "    <tr>\n",
       "      <th>2010</th>\n",
       "      <td>2021-07-03</td>\n",
       "      <td>38.0</td>\n",
       "      <td>28.0</td>\n",
       "      <td>31.6</td>\n",
       "      <td>NaN</td>\n",
       "      <td>48.8</td>\n",
       "      <td>31.95</td>\n",
       "      <td>209.58</td>\n",
       "      <td>33.5</td>\n",
       "      <td>3.2</td>\n",
       "      <td>88.1</td>\n",
       "      <td>62.35</td>\n",
       "      <td>1000.7</td>\n",
       "      <td>23.2</td>\n",
       "      <td>0.0</td>\n",
       "      <td>Overcast</td>\n",
       "    </tr>\n",
       "    <tr>\n",
       "      <th>2011</th>\n",
       "      <td>2021-07-04</td>\n",
       "      <td>39.0</td>\n",
       "      <td>28.0</td>\n",
       "      <td>33.3</td>\n",
       "      <td>NaN</td>\n",
       "      <td>42.5</td>\n",
       "      <td>20.50</td>\n",
       "      <td>159.47</td>\n",
       "      <td>NaN</td>\n",
       "      <td>3.4</td>\n",
       "      <td>57.7</td>\n",
       "      <td>53.93</td>\n",
       "      <td>1002.2</td>\n",
       "      <td>22.2</td>\n",
       "      <td>0.0</td>\n",
       "      <td>Partially cloudy</td>\n",
       "    </tr>\n",
       "    <tr>\n",
       "      <th>2012</th>\n",
       "      <td>2021-07-05</td>\n",
       "      <td>39.9</td>\n",
       "      <td>29.0</td>\n",
       "      <td>33.6</td>\n",
       "      <td>NaN</td>\n",
       "      <td>45.8</td>\n",
       "      <td>14.80</td>\n",
       "      <td>234.74</td>\n",
       "      <td>33.5</td>\n",
       "      <td>3.6</td>\n",
       "      <td>51.3</td>\n",
       "      <td>49.11</td>\n",
       "      <td>1002.6</td>\n",
       "      <td>21.7</td>\n",
       "      <td>0.0</td>\n",
       "      <td>Partially cloudy</td>\n",
       "    </tr>\n",
       "    <tr>\n",
       "      <th>2013</th>\n",
       "      <td>2021-07-06</td>\n",
       "      <td>39.9</td>\n",
       "      <td>30.0</td>\n",
       "      <td>34.6</td>\n",
       "      <td>NaN</td>\n",
       "      <td>45.8</td>\n",
       "      <td>18.40</td>\n",
       "      <td>265.91</td>\n",
       "      <td>NaN</td>\n",
       "      <td>3.8</td>\n",
       "      <td>42.4</td>\n",
       "      <td>50.77</td>\n",
       "      <td>1000.8</td>\n",
       "      <td>22.7</td>\n",
       "      <td>0.0</td>\n",
       "      <td>Partially cloudy</td>\n",
       "    </tr>\n",
       "    <tr>\n",
       "      <th>2014</th>\n",
       "      <td>2021-07-07</td>\n",
       "      <td>39.0</td>\n",
       "      <td>31.0</td>\n",
       "      <td>34.0</td>\n",
       "      <td>NaN</td>\n",
       "      <td>42.5</td>\n",
       "      <td>16.60</td>\n",
       "      <td>185.83</td>\n",
       "      <td>33.5</td>\n",
       "      <td>3.6</td>\n",
       "      <td>25.0</td>\n",
       "      <td>53.99</td>\n",
       "      <td>999.4</td>\n",
       "      <td>22.3</td>\n",
       "      <td>0.0</td>\n",
       "      <td>Clear</td>\n",
       "    </tr>\n",
       "  </tbody>\n",
       "</table>\n",
       "<p>2015 rows × 16 columns</p>\n",
       "</div>"
      ],
      "text/plain": [
       "      Date time  Maximum Temperature  Minimum Temperature  Temperature  \\\n",
       "0    2016-01-01                 23.8                  8.0         14.8   \n",
       "1    2016-01-02                 21.8                  8.3         14.6   \n",
       "2    2016-01-03                 22.1                  8.0         13.9   \n",
       "3    2016-01-04                 23.2                  8.0         15.4   \n",
       "4    2016-01-05                 26.3                 11.3         18.1   \n",
       "...         ...                  ...                  ...          ...   \n",
       "2010 2021-07-03                 38.0                 28.0         31.6   \n",
       "2011 2021-07-04                 39.0                 28.0         33.3   \n",
       "2012 2021-07-05                 39.9                 29.0         33.6   \n",
       "2013 2021-07-06                 39.9                 30.0         34.6   \n",
       "2014 2021-07-07                 39.0                 31.0         34.0   \n",
       "\n",
       "      Wind Chill  Heat Index  Wind Speed  Wind Direction  Wind Gust  \\\n",
       "0            8.5         NaN        7.60          125.52        NaN   \n",
       "1            NaN         NaN       13.00          153.29        NaN   \n",
       "2            6.8         NaN       14.80          180.04        NaN   \n",
       "3            NaN         NaN        7.60           56.61        NaN   \n",
       "4            NaN         NaN        9.40           77.04        NaN   \n",
       "...          ...         ...         ...             ...        ...   \n",
       "2010         NaN        48.8       31.95          209.58       33.5   \n",
       "2011         NaN        42.5       20.50          159.47        NaN   \n",
       "2012         NaN        45.8       14.80          234.74       33.5   \n",
       "2013         NaN        45.8       18.40          265.91        NaN   \n",
       "2014         NaN        42.5       16.60          185.83       33.5   \n",
       "\n",
       "      Visibility  Cloud Cover  Relative Humidity  Sea Level Pressure  \\\n",
       "0            1.0         28.6              73.11              1021.3   \n",
       "1            1.2         11.4              73.29              1021.3   \n",
       "2            0.9          3.7              75.24              1018.7   \n",
       "3            0.7         22.1              75.10              1018.0   \n",
       "4            1.1         46.1              71.74              1017.1   \n",
       "...          ...          ...                ...                 ...   \n",
       "2010         3.2         88.1              62.35              1000.7   \n",
       "2011         3.4         57.7              53.93              1002.2   \n",
       "2012         3.6         51.3              49.11              1002.6   \n",
       "2013         3.8         42.4              50.77              1000.8   \n",
       "2014         3.6         25.0              53.99               999.4   \n",
       "\n",
       "      Dew Point  Precipitation        Condition1  \n",
       "0           9.3            0.0  Partially cloudy  \n",
       "1           9.9            0.0             Clear  \n",
       "2           8.8            0.0             Clear  \n",
       "3          10.5            0.0             Clear  \n",
       "4          12.3            0.0  Partially cloudy  \n",
       "...         ...            ...               ...  \n",
       "2010       23.2            0.0          Overcast  \n",
       "2011       22.2            0.0  Partially cloudy  \n",
       "2012       21.7            0.0  Partially cloudy  \n",
       "2013       22.7            0.0  Partially cloudy  \n",
       "2014       22.3            0.0             Clear  \n",
       "\n",
       "[2015 rows x 16 columns]"
      ]
     },
     "execution_count": 23,
     "metadata": {},
     "output_type": "execute_result"
    }
   ],
   "source": [
    "df"
   ]
  },
  {
   "cell_type": "code",
   "execution_count": 24,
   "metadata": {},
   "outputs": [
    {
     "name": "stdout",
     "output_type": "stream",
     "text": [
      "Clear               907\n",
      "Rain                553\n",
      "Partially cloudy    547\n",
      "Overcast              8\n",
      "Name: Condition1, dtype: int64\n"
     ]
    },
    {
     "data": {
      "text/plain": [
       "<AxesSubplot:xlabel='Condition1', ylabel='count'>"
      ]
     },
     "execution_count": 24,
     "metadata": {},
     "output_type": "execute_result"
    },
    {
     "data": {
      "image/png": "[encoded data removed]",
      "text/plain": [
       "<Figure size 432x288 with 1 Axes>"
      ]
     },
     "metadata": {
      "needs_background": "light"
     },
     "output_type": "display_data"
    }
   ],
   "source": [
    "data=df.copy()\n",
    "print(data['Condition1'].value_counts())\n",
    "sns.countplot(data['Condition1'])"
   ]
  },
  {
   "cell_type": "markdown",
   "metadata": {},
   "source": [
    "**Date time feature**"
   ]
  },
  {
   "cell_type": "code",
   "execution_count": 25,
   "metadata": {},
   "outputs": [
    {
     "data": {
      "text/plain": [
       "['Date time']"
      ]
     },
     "execution_count": 25,
     "metadata": {},
     "output_type": "execute_result"
    }
   ],
   "source": [
    "datetime_feature"
   ]
  },
  {
   "cell_type": "code",
   "execution_count": 26,
   "metadata": {},
   "outputs": [
    {
     "data": {
      "image/png": "[encoded data removed]",
      "text/plain": [
       "<Figure size 432x288 with 1 Axes>"
      ]
     },
     "metadata": {
      "needs_background": "light"
     },
     "output_type": "display_data"
    },
    {
     "data": {
      "image/png": "[encoded data removed]",
      "text/plain": [
       "<Figure size 432x288 with 1 Axes>"
      ]
     },
     "metadata": {
      "needs_background": "light"
     },
     "output_type": "display_data"
    }
   ],
   "source": [
    "for feature in ['Precipitation','Temperature']:\n",
    "    data=df.copy()\n",
    "    data=data[['Date time',feature]]\n",
    "    data.set_index('Date time',inplace=True)\n",
    "    data.plot()"
   ]
  },
  {
   "cell_type": "code",
   "execution_count": 27,
   "metadata": {},
   "outputs": [],
   "source": [
    "#converting Date Time column to Day,Month,Year\n",
    "def date(dataframe):\n",
    "    dataframe['day']=pd.to_datetime(dataframe['Date time'],format=\"%y-%m-%d\").dt.day\n",
    "    dataframe['month']=pd.to_datetime(dataframe['Date time'],format=\"%y-%m-%d\").dt.month\n",
    "    dataframe['year']=pd.to_datetime(dataframe['Date time'],format=\"%y-%m-%d\").dt.year\n",
    "\n",
    "    dataframe.drop('Date time',axis=1,inplace=True)"
   ]
  },
  {
   "cell_type": "code",
   "execution_count": 28,
   "metadata": {},
   "outputs": [
    {
     "data": {
      "text/html": [
       "<div>\n",
       "<style scoped>\n",
       "    .dataframe tbody tr th:only-of-type {\n",
       "        vertical-align: middle;\n",
       "    }\n",
       "\n",
       "    .dataframe tbody tr th {\n",
       "        vertical-align: top;\n",
       "    }\n",
       "\n",
       "    .dataframe thead th {\n",
       "        text-align: right;\n",
       "    }\n",
       "</style>\n",
       "<table border=\"1\" class=\"dataframe\">\n",
       "  <thead>\n",
       "    <tr style=\"text-align: right;\">\n",
       "      <th></th>\n",
       "      <th>Maximum Temperature</th>\n",
       "      <th>Minimum Temperature</th>\n",
       "      <th>Temperature</th>\n",
       "      <th>Wind Chill</th>\n",
       "      <th>Heat Index</th>\n",
       "      <th>Wind Speed</th>\n",
       "      <th>Wind Direction</th>\n",
       "      <th>Wind Gust</th>\n",
       "      <th>Visibility</th>\n",
       "      <th>Cloud Cover</th>\n",
       "      <th>Relative Humidity</th>\n",
       "      <th>Sea Level Pressure</th>\n",
       "      <th>Dew Point</th>\n",
       "      <th>Precipitation</th>\n",
       "      <th>Condition1</th>\n",
       "      <th>day</th>\n",
       "      <th>month</th>\n",
       "      <th>year</th>\n",
       "    </tr>\n",
       "  </thead>\n",
       "  <tbody>\n",
       "    <tr>\n",
       "      <th>0</th>\n",
       "      <td>23.8</td>\n",
       "      <td>8.0</td>\n",
       "      <td>14.8</td>\n",
       "      <td>8.5</td>\n",
       "      <td>NaN</td>\n",
       "      <td>7.6</td>\n",
       "      <td>125.52</td>\n",
       "      <td>NaN</td>\n",
       "      <td>1.0</td>\n",
       "      <td>28.6</td>\n",
       "      <td>73.11</td>\n",
       "      <td>1021.3</td>\n",
       "      <td>9.3</td>\n",
       "      <td>0.0</td>\n",
       "      <td>Partially cloudy</td>\n",
       "      <td>1</td>\n",
       "      <td>1</td>\n",
       "      <td>2016</td>\n",
       "    </tr>\n",
       "    <tr>\n",
       "      <th>1</th>\n",
       "      <td>21.8</td>\n",
       "      <td>8.3</td>\n",
       "      <td>14.6</td>\n",
       "      <td>NaN</td>\n",
       "      <td>NaN</td>\n",
       "      <td>13.0</td>\n",
       "      <td>153.29</td>\n",
       "      <td>NaN</td>\n",
       "      <td>1.2</td>\n",
       "      <td>11.4</td>\n",
       "      <td>73.29</td>\n",
       "      <td>1021.3</td>\n",
       "      <td>9.9</td>\n",
       "      <td>0.0</td>\n",
       "      <td>Clear</td>\n",
       "      <td>2</td>\n",
       "      <td>1</td>\n",
       "      <td>2016</td>\n",
       "    </tr>\n",
       "    <tr>\n",
       "      <th>2</th>\n",
       "      <td>22.1</td>\n",
       "      <td>8.0</td>\n",
       "      <td>13.9</td>\n",
       "      <td>6.8</td>\n",
       "      <td>NaN</td>\n",
       "      <td>14.8</td>\n",
       "      <td>180.04</td>\n",
       "      <td>NaN</td>\n",
       "      <td>0.9</td>\n",
       "      <td>3.7</td>\n",
       "      <td>75.24</td>\n",
       "      <td>1018.7</td>\n",
       "      <td>8.8</td>\n",
       "      <td>0.0</td>\n",
       "      <td>Clear</td>\n",
       "      <td>3</td>\n",
       "      <td>1</td>\n",
       "      <td>2016</td>\n",
       "    </tr>\n",
       "    <tr>\n",
       "      <th>3</th>\n",
       "      <td>23.2</td>\n",
       "      <td>8.0</td>\n",
       "      <td>15.4</td>\n",
       "      <td>NaN</td>\n",
       "      <td>NaN</td>\n",
       "      <td>7.6</td>\n",
       "      <td>56.61</td>\n",
       "      <td>NaN</td>\n",
       "      <td>0.7</td>\n",
       "      <td>22.1</td>\n",
       "      <td>75.10</td>\n",
       "      <td>1018.0</td>\n",
       "      <td>10.5</td>\n",
       "      <td>0.0</td>\n",
       "      <td>Clear</td>\n",
       "      <td>4</td>\n",
       "      <td>1</td>\n",
       "      <td>2016</td>\n",
       "    </tr>\n",
       "    <tr>\n",
       "      <th>4</th>\n",
       "      <td>26.3</td>\n",
       "      <td>11.3</td>\n",
       "      <td>18.1</td>\n",
       "      <td>NaN</td>\n",
       "      <td>NaN</td>\n",
       "      <td>9.4</td>\n",
       "      <td>77.04</td>\n",
       "      <td>NaN</td>\n",
       "      <td>1.1</td>\n",
       "      <td>46.1</td>\n",
       "      <td>71.74</td>\n",
       "      <td>1017.1</td>\n",
       "      <td>12.3</td>\n",
       "      <td>0.0</td>\n",
       "      <td>Partially cloudy</td>\n",
       "      <td>5</td>\n",
       "      <td>1</td>\n",
       "      <td>2016</td>\n",
       "    </tr>\n",
       "  </tbody>\n",
       "</table>\n",
       "</div>"
      ],
      "text/plain": [
       "   Maximum Temperature  Minimum Temperature  Temperature  Wind Chill  \\\n",
       "0                 23.8                  8.0         14.8         8.5   \n",
       "1                 21.8                  8.3         14.6         NaN   \n",
       "2                 22.1                  8.0         13.9         6.8   \n",
       "3                 23.2                  8.0         15.4         NaN   \n",
       "4                 26.3                 11.3         18.1         NaN   \n",
       "\n",
       "   Heat Index  Wind Speed  Wind Direction  Wind Gust  Visibility  Cloud Cover  \\\n",
       "0         NaN         7.6          125.52        NaN         1.0         28.6   \n",
       "1         NaN        13.0          153.29        NaN         1.2         11.4   \n",
       "2         NaN        14.8          180.04        NaN         0.9          3.7   \n",
       "3         NaN         7.6           56.61        NaN         0.7         22.1   \n",
       "4         NaN         9.4           77.04        NaN         1.1         46.1   \n",
       "\n",
       "   Relative Humidity  Sea Level Pressure  Dew Point  Precipitation  \\\n",
       "0              73.11              1021.3        9.3            0.0   \n",
       "1              73.29              1021.3        9.9            0.0   \n",
       "2              75.24              1018.7        8.8            0.0   \n",
       "3              75.10              1018.0       10.5            0.0   \n",
       "4              71.74              1017.1       12.3            0.0   \n",
       "\n",
       "         Condition1  day  month  year  \n",
       "0  Partially cloudy    1      1  2016  \n",
       "1             Clear    2      1  2016  \n",
       "2             Clear    3      1  2016  \n",
       "3             Clear    4      1  2016  \n",
       "4  Partially cloudy    5      1  2016  "
      ]
     },
     "execution_count": 28,
     "metadata": {},
     "output_type": "execute_result"
    }
   ],
   "source": [
    "date(df)\n",
    "df.head()"
   ]
  },
  {
   "cell_type": "markdown",
   "metadata": {},
   "source": [
    "# Feature Engineering"
   ]
  },
  {
   "cell_type": "markdown",
   "metadata": {},
   "source": [
    "**missing values in dataset**"
   ]
  },
  {
   "cell_type": "code",
   "execution_count": 29,
   "metadata": {},
   "outputs": [
    {
     "data": {
      "text/plain": [
       "Maximum Temperature     0.000000\n",
       "Minimum Temperature     0.000000\n",
       "Temperature             0.000000\n",
       "Wind Chill             89.379653\n",
       "Heat Index             25.905707\n",
       "Wind Speed              0.000000\n",
       "Wind Direction          0.000000\n",
       "Wind Gust              70.124069\n",
       "Visibility              0.000000\n",
       "Cloud Cover             0.000000\n",
       "Relative Humidity       0.000000\n",
       "Sea Level Pressure      0.000000\n",
       "Dew Point               0.000000\n",
       "Precipitation           0.000000\n",
       "Condition1              0.000000\n",
       "day                     0.000000\n",
       "month                   0.000000\n",
       "year                    0.000000\n",
       "dtype: float64"
      ]
     },
     "execution_count": 29,
     "metadata": {},
     "output_type": "execute_result"
    }
   ],
   "source": [
    "df.isnull().sum()/len(df)*100"
   ]
  },
  {
   "cell_type": "markdown",
   "metadata": {},
   "source": [
    "Where missing values is more than 70% will remove that column and removing precipitation column coz it will predict rain weather with 100% accuracy and make the model bias"
   ]
  },
  {
   "cell_type": "code",
   "execution_count": 30,
   "metadata": {},
   "outputs": [],
   "source": [
    "df.drop(['Wind Chill','Wind Gust'],inplace=True,axis=1)"
   ]
  },
  {
   "cell_type": "code",
   "execution_count": 31,
   "metadata": {},
   "outputs": [],
   "source": [
    "#resetting columns in order\n",
    "def resetcol(dataframe):\n",
    "    dataframe=dataframe[['day','month', 'year','Minimum Temperature', \n",
    "                         'Maximum Temperature', 'Temperature',\n",
    "                         'Heat Index' , 'Wind Speed',\n",
    "                         'Wind Direction', 'Visibility', 'Cloud Cover',\n",
    "                         'Relative Humidity', 'Sea Level Pressure', \n",
    "                         'Dew Point', 'Condition1']]\n",
    "    \n",
    "    return dataframe"
   ]
  },
  {
   "cell_type": "code",
   "execution_count": 32,
   "metadata": {},
   "outputs": [
    {
     "data": {
      "text/html": [
       "<div>\n",
       "<style scoped>\n",
       "    .dataframe tbody tr th:only-of-type {\n",
       "        vertical-align: middle;\n",
       "    }\n",
       "\n",
       "    .dataframe tbody tr th {\n",
       "        vertical-align: top;\n",
       "    }\n",
       "\n",
       "    .dataframe thead th {\n",
       "        text-align: right;\n",
       "    }\n",
       "</style>\n",
       "<table border=\"1\" class=\"dataframe\">\n",
       "  <thead>\n",
       "    <tr style=\"text-align: right;\">\n",
       "      <th></th>\n",
       "      <th>day</th>\n",
       "      <th>month</th>\n",
       "      <th>year</th>\n",
       "      <th>Minimum Temperature</th>\n",
       "      <th>Maximum Temperature</th>\n",
       "      <th>Temperature</th>\n",
       "      <th>Heat Index</th>\n",
       "      <th>Wind Speed</th>\n",
       "      <th>Wind Direction</th>\n",
       "      <th>Visibility</th>\n",
       "      <th>Cloud Cover</th>\n",
       "      <th>Relative Humidity</th>\n",
       "      <th>Sea Level Pressure</th>\n",
       "      <th>Dew Point</th>\n",
       "      <th>Condition1</th>\n",
       "    </tr>\n",
       "  </thead>\n",
       "  <tbody>\n",
       "    <tr>\n",
       "      <th>0</th>\n",
       "      <td>1</td>\n",
       "      <td>1</td>\n",
       "      <td>2016</td>\n",
       "      <td>8.0</td>\n",
       "      <td>23.8</td>\n",
       "      <td>14.8</td>\n",
       "      <td>NaN</td>\n",
       "      <td>7.60</td>\n",
       "      <td>125.52</td>\n",
       "      <td>1.0</td>\n",
       "      <td>28.6</td>\n",
       "      <td>73.11</td>\n",
       "      <td>1021.3</td>\n",
       "      <td>9.3</td>\n",
       "      <td>Partially cloudy</td>\n",
       "    </tr>\n",
       "    <tr>\n",
       "      <th>1</th>\n",
       "      <td>2</td>\n",
       "      <td>1</td>\n",
       "      <td>2016</td>\n",
       "      <td>8.3</td>\n",
       "      <td>21.8</td>\n",
       "      <td>14.6</td>\n",
       "      <td>NaN</td>\n",
       "      <td>13.00</td>\n",
       "      <td>153.29</td>\n",
       "      <td>1.2</td>\n",
       "      <td>11.4</td>\n",
       "      <td>73.29</td>\n",
       "      <td>1021.3</td>\n",
       "      <td>9.9</td>\n",
       "      <td>Clear</td>\n",
       "    </tr>\n",
       "    <tr>\n",
       "      <th>2</th>\n",
       "      <td>3</td>\n",
       "      <td>1</td>\n",
       "      <td>2016</td>\n",
       "      <td>8.0</td>\n",
       "      <td>22.1</td>\n",
       "      <td>13.9</td>\n",
       "      <td>NaN</td>\n",
       "      <td>14.80</td>\n",
       "      <td>180.04</td>\n",
       "      <td>0.9</td>\n",
       "      <td>3.7</td>\n",
       "      <td>75.24</td>\n",
       "      <td>1018.7</td>\n",
       "      <td>8.8</td>\n",
       "      <td>Clear</td>\n",
       "    </tr>\n",
       "    <tr>\n",
       "      <th>3</th>\n",
       "      <td>4</td>\n",
       "      <td>1</td>\n",
       "      <td>2016</td>\n",
       "      <td>8.0</td>\n",
       "      <td>23.2</td>\n",
       "      <td>15.4</td>\n",
       "      <td>NaN</td>\n",
       "      <td>7.60</td>\n",
       "      <td>56.61</td>\n",
       "      <td>0.7</td>\n",
       "      <td>22.1</td>\n",
       "      <td>75.10</td>\n",
       "      <td>1018.0</td>\n",
       "      <td>10.5</td>\n",
       "      <td>Clear</td>\n",
       "    </tr>\n",
       "    <tr>\n",
       "      <th>4</th>\n",
       "      <td>5</td>\n",
       "      <td>1</td>\n",
       "      <td>2016</td>\n",
       "      <td>11.3</td>\n",
       "      <td>26.3</td>\n",
       "      <td>18.1</td>\n",
       "      <td>NaN</td>\n",
       "      <td>9.40</td>\n",
       "      <td>77.04</td>\n",
       "      <td>1.1</td>\n",
       "      <td>46.1</td>\n",
       "      <td>71.74</td>\n",
       "      <td>1017.1</td>\n",
       "      <td>12.3</td>\n",
       "      <td>Partially cloudy</td>\n",
       "    </tr>\n",
       "    <tr>\n",
       "      <th>...</th>\n",
       "      <td>...</td>\n",
       "      <td>...</td>\n",
       "      <td>...</td>\n",
       "      <td>...</td>\n",
       "      <td>...</td>\n",
       "      <td>...</td>\n",
       "      <td>...</td>\n",
       "      <td>...</td>\n",
       "      <td>...</td>\n",
       "      <td>...</td>\n",
       "      <td>...</td>\n",
       "      <td>...</td>\n",
       "      <td>...</td>\n",
       "      <td>...</td>\n",
       "      <td>...</td>\n",
       "    </tr>\n",
       "    <tr>\n",
       "      <th>2010</th>\n",
       "      <td>3</td>\n",
       "      <td>7</td>\n",
       "      <td>2021</td>\n",
       "      <td>28.0</td>\n",
       "      <td>38.0</td>\n",
       "      <td>31.6</td>\n",
       "      <td>48.8</td>\n",
       "      <td>31.95</td>\n",
       "      <td>209.58</td>\n",
       "      <td>3.2</td>\n",
       "      <td>88.1</td>\n",
       "      <td>62.35</td>\n",
       "      <td>1000.7</td>\n",
       "      <td>23.2</td>\n",
       "      <td>Overcast</td>\n",
       "    </tr>\n",
       "    <tr>\n",
       "      <th>2011</th>\n",
       "      <td>4</td>\n",
       "      <td>7</td>\n",
       "      <td>2021</td>\n",
       "      <td>28.0</td>\n",
       "      <td>39.0</td>\n",
       "      <td>33.3</td>\n",
       "      <td>42.5</td>\n",
       "      <td>20.50</td>\n",
       "      <td>159.47</td>\n",
       "      <td>3.4</td>\n",
       "      <td>57.7</td>\n",
       "      <td>53.93</td>\n",
       "      <td>1002.2</td>\n",
       "      <td>22.2</td>\n",
       "      <td>Partially cloudy</td>\n",
       "    </tr>\n",
       "    <tr>\n",
       "      <th>2012</th>\n",
       "      <td>5</td>\n",
       "      <td>7</td>\n",
       "      <td>2021</td>\n",
       "      <td>29.0</td>\n",
       "      <td>39.9</td>\n",
       "      <td>33.6</td>\n",
       "      <td>45.8</td>\n",
       "      <td>14.80</td>\n",
       "      <td>234.74</td>\n",
       "      <td>3.6</td>\n",
       "      <td>51.3</td>\n",
       "      <td>49.11</td>\n",
       "      <td>1002.6</td>\n",
       "      <td>21.7</td>\n",
       "      <td>Partially cloudy</td>\n",
       "    </tr>\n",
       "    <tr>\n",
       "      <th>2013</th>\n",
       "      <td>6</td>\n",
       "      <td>7</td>\n",
       "      <td>2021</td>\n",
       "      <td>30.0</td>\n",
       "      <td>39.9</td>\n",
       "      <td>34.6</td>\n",
       "      <td>45.8</td>\n",
       "      <td>18.40</td>\n",
       "      <td>265.91</td>\n",
       "      <td>3.8</td>\n",
       "      <td>42.4</td>\n",
       "      <td>50.77</td>\n",
       "      <td>1000.8</td>\n",
       "      <td>22.7</td>\n",
       "      <td>Partially cloudy</td>\n",
       "    </tr>\n",
       "    <tr>\n",
       "      <th>2014</th>\n",
       "      <td>7</td>\n",
       "      <td>7</td>\n",
       "      <td>2021</td>\n",
       "      <td>31.0</td>\n",
       "      <td>39.0</td>\n",
       "      <td>34.0</td>\n",
       "      <td>42.5</td>\n",
       "      <td>16.60</td>\n",
       "      <td>185.83</td>\n",
       "      <td>3.6</td>\n",
       "      <td>25.0</td>\n",
       "      <td>53.99</td>\n",
       "      <td>999.4</td>\n",
       "      <td>22.3</td>\n",
       "      <td>Clear</td>\n",
       "    </tr>\n",
       "  </tbody>\n",
       "</table>\n",
       "<p>2015 rows × 15 columns</p>\n",
       "</div>"
      ],
      "text/plain": [
       "      day  month  year  Minimum Temperature  Maximum Temperature  Temperature  \\\n",
       "0       1      1  2016                  8.0                 23.8         14.8   \n",
       "1       2      1  2016                  8.3                 21.8         14.6   \n",
       "2       3      1  2016                  8.0                 22.1         13.9   \n",
       "3       4      1  2016                  8.0                 23.2         15.4   \n",
       "4       5      1  2016                 11.3                 26.3         18.1   \n",
       "...   ...    ...   ...                  ...                  ...          ...   \n",
       "2010    3      7  2021                 28.0                 38.0         31.6   \n",
       "2011    4      7  2021                 28.0                 39.0         33.3   \n",
       "2012    5      7  2021                 29.0                 39.9         33.6   \n",
       "2013    6      7  2021                 30.0                 39.9         34.6   \n",
       "2014    7      7  2021                 31.0                 39.0         34.0   \n",
       "\n",
       "      Heat Index  Wind Speed  Wind Direction  Visibility  Cloud Cover  \\\n",
       "0            NaN        7.60          125.52         1.0         28.6   \n",
       "1            NaN       13.00          153.29         1.2         11.4   \n",
       "2            NaN       14.80          180.04         0.9          3.7   \n",
       "3            NaN        7.60           56.61         0.7         22.1   \n",
       "4            NaN        9.40           77.04         1.1         46.1   \n",
       "...          ...         ...             ...         ...          ...   \n",
       "2010        48.8       31.95          209.58         3.2         88.1   \n",
       "2011        42.5       20.50          159.47         3.4         57.7   \n",
       "2012        45.8       14.80          234.74         3.6         51.3   \n",
       "2013        45.8       18.40          265.91         3.8         42.4   \n",
       "2014        42.5       16.60          185.83         3.6         25.0   \n",
       "\n",
       "      Relative Humidity  Sea Level Pressure  Dew Point        Condition1  \n",
       "0                 73.11              1021.3        9.3  Partially cloudy  \n",
       "1                 73.29              1021.3        9.9             Clear  \n",
       "2                 75.24              1018.7        8.8             Clear  \n",
       "3                 75.10              1018.0       10.5             Clear  \n",
       "4                 71.74              1017.1       12.3  Partially cloudy  \n",
       "...                 ...                 ...        ...               ...  \n",
       "2010              62.35              1000.7       23.2          Overcast  \n",
       "2011              53.93              1002.2       22.2  Partially cloudy  \n",
       "2012              49.11              1002.6       21.7  Partially cloudy  \n",
       "2013              50.77              1000.8       22.7  Partially cloudy  \n",
       "2014              53.99               999.4       22.3             Clear  \n",
       "\n",
       "[2015 rows x 15 columns]"
      ]
     },
     "execution_count": 32,
     "metadata": {},
     "output_type": "execute_result"
    }
   ],
   "source": [
    "df=resetcol(df)\n",
    "df"
   ]
  },
  {
   "cell_type": "markdown",
   "metadata": {},
   "source": [
    "**Train test split to prevent data leakage**"
   ]
  },
  {
   "cell_type": "code",
   "execution_count": 33,
   "metadata": {},
   "outputs": [],
   "source": [
    "from sklearn.model_selection import train_test_split\n",
    "df_train,df_test=train_test_split(df,test_size=0.2,random_state=1)"
   ]
  },
  {
   "cell_type": "markdown",
   "metadata": {},
   "source": [
    "# Handling Numerical Missing Values"
   ]
  },
  {
   "cell_type": "code",
   "execution_count": 34,
   "metadata": {},
   "outputs": [
    {
     "data": {
      "image/png": "[encoded data removed]",
      "text/plain": [
       "<Figure size 1296x1296 with 2 Axes>"
      ]
     },
     "metadata": {
      "needs_background": "light"
     },
     "output_type": "display_data"
    }
   ],
   "source": [
    "#Finiding Correlation b/w independent and dependent attributes\n",
    "\n",
    "plt.figure(figsize=(18,18))\n",
    "sns.heatmap(df_train.corr(),annot=True,cmap='YlGnBu')\n",
    "\n",
    "plt.show()"
   ]
  },
  {
   "cell_type": "markdown",
   "metadata": {},
   "source": [
    "we can infer from correlation matrix that Heat index and Minimum Temperature are highly correlated and Temperature is highly correlated with both Max and Min temperature."
   ]
  },
  {
   "cell_type": "code",
   "execution_count": 35,
   "metadata": {},
   "outputs": [],
   "source": [
    "#removing correlated features\n",
    "def correlation(dataset,thresh):\n",
    "    col_corr = set()\n",
    "    correlation_matrix=dataset.corr()\n",
    "    for i in range(len(correlation_matrix.columns)):\n",
    "        for j in range(i):\n",
    "            if (correlation_matrix.iloc[i, j]) > thresh:\n",
    "                colname = correlation_matrix.columns[i]\n",
    "                col_corr.add(colname)\n",
    "    return col_corr"
   ]
  },
  {
   "cell_type": "code",
   "execution_count": 36,
   "metadata": {},
   "outputs": [],
   "source": [
    "correlation_features=correlation(df_train,0.9)"
   ]
  },
  {
   "cell_type": "code",
   "execution_count": 37,
   "metadata": {},
   "outputs": [
    {
     "data": {
      "text/plain": [
       "{'Heat Index', 'Temperature'}"
      ]
     },
     "execution_count": 37,
     "metadata": {},
     "output_type": "execute_result"
    }
   ],
   "source": [
    "correlation_features"
   ]
  },
  {
   "cell_type": "code",
   "execution_count": 38,
   "metadata": {},
   "outputs": [],
   "source": [
    "df_train.drop(['Heat Index', 'Temperature'],axis=1,inplace=True)\n",
    "df_test.drop(['Heat Index', 'Temperature'],axis=1,inplace=True)"
   ]
  },
  {
   "cell_type": "markdown",
   "metadata": {},
   "source": [
    "# Handling Categorical Data"
   ]
  },
  {
   "cell_type": "code",
   "execution_count": 39,
   "metadata": {},
   "outputs": [],
   "source": [
    "#ordinal encoding\n",
    "condition_dict={'Clear':1,'Partially cloudy':2,'Overcast':3,'Rain':4}"
   ]
  },
  {
   "cell_type": "code",
   "execution_count": 40,
   "metadata": {},
   "outputs": [
    {
     "data": {
      "text/plain": [
       "{'Clear': 1, 'Partially cloudy': 2, 'Overcast': 3, 'Rain': 4}"
      ]
     },
     "execution_count": 40,
     "metadata": {},
     "output_type": "execute_result"
    }
   ],
   "source": [
    "condition_dict"
   ]
  },
  {
   "cell_type": "code",
   "execution_count": 41,
   "metadata": {},
   "outputs": [],
   "source": [
    "df_train['Condition1']=df_train['Condition1'].map(condition_dict)\n",
    "df_test['Condition1']=df_test['Condition1'].map(condition_dict)"
   ]
  },
  {
   "cell_type": "code",
   "execution_count": 42,
   "metadata": {},
   "outputs": [
    {
     "data": {
      "text/html": [
       "<div>\n",
       "<style scoped>\n",
       "    .dataframe tbody tr th:only-of-type {\n",
       "        vertical-align: middle;\n",
       "    }\n",
       "\n",
       "    .dataframe tbody tr th {\n",
       "        vertical-align: top;\n",
       "    }\n",
       "\n",
       "    .dataframe thead th {\n",
       "        text-align: right;\n",
       "    }\n",
       "</style>\n",
       "<table border=\"1\" class=\"dataframe\">\n",
       "  <thead>\n",
       "    <tr style=\"text-align: right;\">\n",
       "      <th></th>\n",
       "      <th>day</th>\n",
       "      <th>month</th>\n",
       "      <th>year</th>\n",
       "      <th>Minimum Temperature</th>\n",
       "      <th>Maximum Temperature</th>\n",
       "      <th>Wind Speed</th>\n",
       "      <th>Wind Direction</th>\n",
       "      <th>Visibility</th>\n",
       "      <th>Cloud Cover</th>\n",
       "      <th>Relative Humidity</th>\n",
       "      <th>Sea Level Pressure</th>\n",
       "      <th>Dew Point</th>\n",
       "      <th>Condition1</th>\n",
       "    </tr>\n",
       "  </thead>\n",
       "  <tbody>\n",
       "    <tr>\n",
       "      <th>1322</th>\n",
       "      <td>15</td>\n",
       "      <td>8</td>\n",
       "      <td>2019</td>\n",
       "      <td>25.3</td>\n",
       "      <td>34.4</td>\n",
       "      <td>18.3</td>\n",
       "      <td>107.04</td>\n",
       "      <td>3.1</td>\n",
       "      <td>68.3</td>\n",
       "      <td>80.96</td>\n",
       "      <td>1000.6</td>\n",
       "      <td>26.6</td>\n",
       "      <td>4</td>\n",
       "    </tr>\n",
       "    <tr>\n",
       "      <th>1567</th>\n",
       "      <td>16</td>\n",
       "      <td>4</td>\n",
       "      <td>2020</td>\n",
       "      <td>23.6</td>\n",
       "      <td>39.0</td>\n",
       "      <td>16.6</td>\n",
       "      <td>247.63</td>\n",
       "      <td>3.4</td>\n",
       "      <td>34.4</td>\n",
       "      <td>33.62</td>\n",
       "      <td>1005.9</td>\n",
       "      <td>12.1</td>\n",
       "      <td>2</td>\n",
       "    </tr>\n",
       "    <tr>\n",
       "      <th>953</th>\n",
       "      <td>11</td>\n",
       "      <td>8</td>\n",
       "      <td>2018</td>\n",
       "      <td>28.0</td>\n",
       "      <td>35.0</td>\n",
       "      <td>18.4</td>\n",
       "      <td>244.83</td>\n",
       "      <td>3.4</td>\n",
       "      <td>79.5</td>\n",
       "      <td>74.81</td>\n",
       "      <td>997.0</td>\n",
       "      <td>26.5</td>\n",
       "      <td>4</td>\n",
       "    </tr>\n",
       "    <tr>\n",
       "      <th>1117</th>\n",
       "      <td>22</td>\n",
       "      <td>1</td>\n",
       "      <td>2019</td>\n",
       "      <td>13.0</td>\n",
       "      <td>18.0</td>\n",
       "      <td>22.3</td>\n",
       "      <td>95.38</td>\n",
       "      <td>1.8</td>\n",
       "      <td>66.9</td>\n",
       "      <td>94.96</td>\n",
       "      <td>1014.2</td>\n",
       "      <td>14.4</td>\n",
       "      <td>4</td>\n",
       "    </tr>\n",
       "    <tr>\n",
       "      <th>1994</th>\n",
       "      <td>17</td>\n",
       "      <td>6</td>\n",
       "      <td>2021</td>\n",
       "      <td>28.0</td>\n",
       "      <td>35.7</td>\n",
       "      <td>18.4</td>\n",
       "      <td>99.79</td>\n",
       "      <td>3.4</td>\n",
       "      <td>52.3</td>\n",
       "      <td>67.76</td>\n",
       "      <td>999.6</td>\n",
       "      <td>24.3</td>\n",
       "      <td>4</td>\n",
       "    </tr>\n",
       "  </tbody>\n",
       "</table>\n",
       "</div>"
      ],
      "text/plain": [
       "      day  month  year  Minimum Temperature  Maximum Temperature  Wind Speed  \\\n",
       "1322   15      8  2019                 25.3                 34.4        18.3   \n",
       "1567   16      4  2020                 23.6                 39.0        16.6   \n",
       "953    11      8  2018                 28.0                 35.0        18.4   \n",
       "1117   22      1  2019                 13.0                 18.0        22.3   \n",
       "1994   17      6  2021                 28.0                 35.7        18.4   \n",
       "\n",
       "      Wind Direction  Visibility  Cloud Cover  Relative Humidity  \\\n",
       "1322          107.04         3.1         68.3              80.96   \n",
       "1567          247.63         3.4         34.4              33.62   \n",
       "953           244.83         3.4         79.5              74.81   \n",
       "1117           95.38         1.8         66.9              94.96   \n",
       "1994           99.79         3.4         52.3              67.76   \n",
       "\n",
       "      Sea Level Pressure  Dew Point  Condition1  \n",
       "1322              1000.6       26.6           4  \n",
       "1567              1005.9       12.1           2  \n",
       "953                997.0       26.5           4  \n",
       "1117              1014.2       14.4           4  \n",
       "1994               999.6       24.3           4  "
      ]
     },
     "execution_count": 42,
     "metadata": {},
     "output_type": "execute_result"
    }
   ],
   "source": [
    "df_train.head()"
   ]
  },
  {
   "cell_type": "code",
   "execution_count": 43,
   "metadata": {},
   "outputs": [
    {
     "data": {
      "text/plain": [
       "day                    0\n",
       "month                  0\n",
       "year                   0\n",
       "Minimum Temperature    0\n",
       "Maximum Temperature    0\n",
       "Wind Speed             0\n",
       "Wind Direction         0\n",
       "Visibility             0\n",
       "Cloud Cover            0\n",
       "Relative Humidity      0\n",
       "Sea Level Pressure     0\n",
       "Dew Point              0\n",
       "Condition1             0\n",
       "dtype: int64"
      ]
     },
     "execution_count": 43,
     "metadata": {},
     "output_type": "execute_result"
    }
   ],
   "source": [
    "df_train.isnull().sum()"
   ]
  },
  {
   "cell_type": "code",
   "execution_count": 44,
   "metadata": {},
   "outputs": [
    {
     "data": {
      "text/html": [
       "<div>\n",
       "<style scoped>\n",
       "    .dataframe tbody tr th:only-of-type {\n",
       "        vertical-align: middle;\n",
       "    }\n",
       "\n",
       "    .dataframe tbody tr th {\n",
       "        vertical-align: top;\n",
       "    }\n",
       "\n",
       "    .dataframe thead th {\n",
       "        text-align: right;\n",
       "    }\n",
       "</style>\n",
       "<table border=\"1\" class=\"dataframe\">\n",
       "  <thead>\n",
       "    <tr style=\"text-align: right;\">\n",
       "      <th></th>\n",
       "      <th>day</th>\n",
       "      <th>month</th>\n",
       "      <th>year</th>\n",
       "      <th>Minimum Temperature</th>\n",
       "      <th>Maximum Temperature</th>\n",
       "      <th>Wind Speed</th>\n",
       "      <th>Wind Direction</th>\n",
       "      <th>Visibility</th>\n",
       "      <th>Cloud Cover</th>\n",
       "      <th>Relative Humidity</th>\n",
       "      <th>Sea Level Pressure</th>\n",
       "      <th>Dew Point</th>\n",
       "      <th>Condition1</th>\n",
       "    </tr>\n",
       "  </thead>\n",
       "  <tbody>\n",
       "    <tr>\n",
       "      <th>309</th>\n",
       "      <td>5</td>\n",
       "      <td>11</td>\n",
       "      <td>2016</td>\n",
       "      <td>16.2</td>\n",
       "      <td>29.0</td>\n",
       "      <td>13.0</td>\n",
       "      <td>117.58</td>\n",
       "      <td>0.1</td>\n",
       "      <td>0.0</td>\n",
       "      <td>71.75</td>\n",
       "      <td>1010.3</td>\n",
       "      <td>15.8</td>\n",
       "      <td>1</td>\n",
       "    </tr>\n",
       "    <tr>\n",
       "      <th>285</th>\n",
       "      <td>12</td>\n",
       "      <td>10</td>\n",
       "      <td>2016</td>\n",
       "      <td>21.0</td>\n",
       "      <td>34.8</td>\n",
       "      <td>21.3</td>\n",
       "      <td>214.63</td>\n",
       "      <td>3.0</td>\n",
       "      <td>0.0</td>\n",
       "      <td>53.42</td>\n",
       "      <td>1005.8</td>\n",
       "      <td>16.5</td>\n",
       "      <td>1</td>\n",
       "    </tr>\n",
       "    <tr>\n",
       "      <th>919</th>\n",
       "      <td>8</td>\n",
       "      <td>7</td>\n",
       "      <td>2018</td>\n",
       "      <td>29.1</td>\n",
       "      <td>40.0</td>\n",
       "      <td>13.0</td>\n",
       "      <td>121.26</td>\n",
       "      <td>3.4</td>\n",
       "      <td>21.0</td>\n",
       "      <td>52.17</td>\n",
       "      <td>995.6</td>\n",
       "      <td>23.3</td>\n",
       "      <td>1</td>\n",
       "    </tr>\n",
       "    <tr>\n",
       "      <th>120</th>\n",
       "      <td>30</td>\n",
       "      <td>4</td>\n",
       "      <td>2016</td>\n",
       "      <td>23.3</td>\n",
       "      <td>40.3</td>\n",
       "      <td>14.2</td>\n",
       "      <td>203.04</td>\n",
       "      <td>2.3</td>\n",
       "      <td>0.0</td>\n",
       "      <td>23.50</td>\n",
       "      <td>1004.2</td>\n",
       "      <td>7.8</td>\n",
       "      <td>1</td>\n",
       "    </tr>\n",
       "    <tr>\n",
       "      <th>585</th>\n",
       "      <td>8</td>\n",
       "      <td>8</td>\n",
       "      <td>2017</td>\n",
       "      <td>27.1</td>\n",
       "      <td>34.9</td>\n",
       "      <td>12.7</td>\n",
       "      <td>89.21</td>\n",
       "      <td>2.9</td>\n",
       "      <td>67.0</td>\n",
       "      <td>83.45</td>\n",
       "      <td>1001.4</td>\n",
       "      <td>26.9</td>\n",
       "      <td>4</td>\n",
       "    </tr>\n",
       "  </tbody>\n",
       "</table>\n",
       "</div>"
      ],
      "text/plain": [
       "     day  month  year  Minimum Temperature  Maximum Temperature  Wind Speed  \\\n",
       "309    5     11  2016                 16.2                 29.0        13.0   \n",
       "285   12     10  2016                 21.0                 34.8        21.3   \n",
       "919    8      7  2018                 29.1                 40.0        13.0   \n",
       "120   30      4  2016                 23.3                 40.3        14.2   \n",
       "585    8      8  2017                 27.1                 34.9        12.7   \n",
       "\n",
       "     Wind Direction  Visibility  Cloud Cover  Relative Humidity  \\\n",
       "309          117.58         0.1          0.0              71.75   \n",
       "285          214.63         3.0          0.0              53.42   \n",
       "919          121.26         3.4         21.0              52.17   \n",
       "120          203.04         2.3          0.0              23.50   \n",
       "585           89.21         2.9         67.0              83.45   \n",
       "\n",
       "     Sea Level Pressure  Dew Point  Condition1  \n",
       "309              1010.3       15.8           1  \n",
       "285              1005.8       16.5           1  \n",
       "919               995.6       23.3           1  \n",
       "120              1004.2        7.8           1  \n",
       "585              1001.4       26.9           4  "
      ]
     },
     "execution_count": 44,
     "metadata": {},
     "output_type": "execute_result"
    }
   ],
   "source": [
    "df_test.head()"
   ]
  },
  {
   "cell_type": "code",
   "execution_count": 45,
   "metadata": {},
   "outputs": [
    {
     "data": {
      "text/plain": [
       "day                    0\n",
       "month                  0\n",
       "year                   0\n",
       "Minimum Temperature    0\n",
       "Maximum Temperature    0\n",
       "Wind Speed             0\n",
       "Wind Direction         0\n",
       "Visibility             0\n",
       "Cloud Cover            0\n",
       "Relative Humidity      0\n",
       "Sea Level Pressure     0\n",
       "Dew Point              0\n",
       "Condition1             0\n",
       "dtype: int64"
      ]
     },
     "execution_count": 45,
     "metadata": {},
     "output_type": "execute_result"
    }
   ],
   "source": [
    "df_test.isnull().sum()"
   ]
  },
  {
   "cell_type": "markdown",
   "metadata": {},
   "source": [
    "# Handling Imbalance Dataset"
   ]
  },
  {
   "cell_type": "code",
   "execution_count": 46,
   "metadata": {},
   "outputs": [
    {
     "data": {
      "text/plain": [
       "<AxesSubplot:xlabel='Condition1', ylabel='count'>"
      ]
     },
     "execution_count": 46,
     "metadata": {},
     "output_type": "execute_result"
    },
    {
     "data": {
      "image/png": "[encoded data removed]",
      "text/plain": [
       "<Figure size 432x288 with 1 Axes>"
      ]
     },
     "metadata": {
      "needs_background": "light"
     },
     "output_type": "display_data"
    }
   ],
   "source": [
    "sns.countplot(x='Condition1',data=df_train)"
   ]
  },
  {
   "cell_type": "code",
   "execution_count": 47,
   "metadata": {},
   "outputs": [
    {
     "data": {
      "text/plain": [
       "1    720\n",
       "4    450\n",
       "2    436\n",
       "3      6\n",
       "Name: Condition1, dtype: int64"
      ]
     },
     "execution_count": 47,
     "metadata": {},
     "output_type": "execute_result"
    }
   ],
   "source": [
    "df_train['Condition1'].value_counts()"
   ]
  },
  {
   "cell_type": "code",
   "execution_count": 48,
   "metadata": {},
   "outputs": [],
   "source": [
    "#handle imbalance dataset for train data \n",
    "X=df_train.drop(['Condition1'],axis=1)\n",
    "\n",
    "y=df_train['Condition1']"
   ]
  },
  {
   "cell_type": "code",
   "execution_count": 49,
   "metadata": {},
   "outputs": [
    {
     "data": {
      "text/plain": [
       "((1612, 12), (1612,))"
      ]
     },
     "execution_count": 49,
     "metadata": {},
     "output_type": "execute_result"
    }
   ],
   "source": [
    "X.shape,y.shape"
   ]
  },
  {
   "cell_type": "code",
   "execution_count": 50,
   "metadata": {},
   "outputs": [],
   "source": [
    "from imblearn.over_sampling import SMOTE\n",
    "smt=SMOTE()\n",
    "X_res, y_res = smt.fit_resample(X, y)"
   ]
  },
  {
   "cell_type": "code",
   "execution_count": 51,
   "metadata": {},
   "outputs": [
    {
     "data": {
      "text/plain": [
       "((2880, 12), (2880,))"
      ]
     },
     "execution_count": 51,
     "metadata": {},
     "output_type": "execute_result"
    }
   ],
   "source": [
    "X_res.shape,y_res.shape"
   ]
  },
  {
   "cell_type": "code",
   "execution_count": 52,
   "metadata": {},
   "outputs": [
    {
     "name": "stdout",
     "output_type": "stream",
     "text": [
      "Original Data shape Counter({1: 720, 4: 450, 2: 436, 3: 6})\n",
      "Resampled Data shape Counter({4: 720, 2: 720, 1: 720, 3: 720})\n"
     ]
    }
   ],
   "source": [
    "from collections import Counter\n",
    "print('Original Data shape {}'.format(Counter(y)))\n",
    "print('Resampled Data shape {}'.format(Counter(y_res)))"
   ]
  },
  {
   "cell_type": "code",
   "execution_count": 53,
   "metadata": {},
   "outputs": [],
   "source": [
    "df_train=pd.concat([X_res,y_res],axis=1)"
   ]
  },
  {
   "cell_type": "code",
   "execution_count": 54,
   "metadata": {},
   "outputs": [
    {
     "data": {
      "text/html": [
       "<div>\n",
       "<style scoped>\n",
       "    .dataframe tbody tr th:only-of-type {\n",
       "        vertical-align: middle;\n",
       "    }\n",
       "\n",
       "    .dataframe tbody tr th {\n",
       "        vertical-align: top;\n",
       "    }\n",
       "\n",
       "    .dataframe thead th {\n",
       "        text-align: right;\n",
       "    }\n",
       "</style>\n",
       "<table border=\"1\" class=\"dataframe\">\n",
       "  <thead>\n",
       "    <tr style=\"text-align: right;\">\n",
       "      <th></th>\n",
       "      <th>day</th>\n",
       "      <th>month</th>\n",
       "      <th>year</th>\n",
       "      <th>Minimum Temperature</th>\n",
       "      <th>Maximum Temperature</th>\n",
       "      <th>Wind Speed</th>\n",
       "      <th>Wind Direction</th>\n",
       "      <th>Visibility</th>\n",
       "      <th>Cloud Cover</th>\n",
       "      <th>Relative Humidity</th>\n",
       "      <th>Sea Level Pressure</th>\n",
       "      <th>Dew Point</th>\n",
       "      <th>Condition1</th>\n",
       "    </tr>\n",
       "  </thead>\n",
       "  <tbody>\n",
       "    <tr>\n",
       "      <th>0</th>\n",
       "      <td>15</td>\n",
       "      <td>8</td>\n",
       "      <td>2019</td>\n",
       "      <td>25.3</td>\n",
       "      <td>34.4</td>\n",
       "      <td>18.3</td>\n",
       "      <td>107.04</td>\n",
       "      <td>3.1</td>\n",
       "      <td>68.3</td>\n",
       "      <td>80.96</td>\n",
       "      <td>1000.6</td>\n",
       "      <td>26.6</td>\n",
       "      <td>4</td>\n",
       "    </tr>\n",
       "    <tr>\n",
       "      <th>1</th>\n",
       "      <td>16</td>\n",
       "      <td>4</td>\n",
       "      <td>2020</td>\n",
       "      <td>23.6</td>\n",
       "      <td>39.0</td>\n",
       "      <td>16.6</td>\n",
       "      <td>247.63</td>\n",
       "      <td>3.4</td>\n",
       "      <td>34.4</td>\n",
       "      <td>33.62</td>\n",
       "      <td>1005.9</td>\n",
       "      <td>12.1</td>\n",
       "      <td>2</td>\n",
       "    </tr>\n",
       "    <tr>\n",
       "      <th>2</th>\n",
       "      <td>11</td>\n",
       "      <td>8</td>\n",
       "      <td>2018</td>\n",
       "      <td>28.0</td>\n",
       "      <td>35.0</td>\n",
       "      <td>18.4</td>\n",
       "      <td>244.83</td>\n",
       "      <td>3.4</td>\n",
       "      <td>79.5</td>\n",
       "      <td>74.81</td>\n",
       "      <td>997.0</td>\n",
       "      <td>26.5</td>\n",
       "      <td>4</td>\n",
       "    </tr>\n",
       "    <tr>\n",
       "      <th>3</th>\n",
       "      <td>22</td>\n",
       "      <td>1</td>\n",
       "      <td>2019</td>\n",
       "      <td>13.0</td>\n",
       "      <td>18.0</td>\n",
       "      <td>22.3</td>\n",
       "      <td>95.38</td>\n",
       "      <td>1.8</td>\n",
       "      <td>66.9</td>\n",
       "      <td>94.96</td>\n",
       "      <td>1014.2</td>\n",
       "      <td>14.4</td>\n",
       "      <td>4</td>\n",
       "    </tr>\n",
       "    <tr>\n",
       "      <th>4</th>\n",
       "      <td>17</td>\n",
       "      <td>6</td>\n",
       "      <td>2021</td>\n",
       "      <td>28.0</td>\n",
       "      <td>35.7</td>\n",
       "      <td>18.4</td>\n",
       "      <td>99.79</td>\n",
       "      <td>3.4</td>\n",
       "      <td>52.3</td>\n",
       "      <td>67.76</td>\n",
       "      <td>999.6</td>\n",
       "      <td>24.3</td>\n",
       "      <td>4</td>\n",
       "    </tr>\n",
       "  </tbody>\n",
       "</table>\n",
       "</div>"
      ],
      "text/plain": [
       "   day  month  year  Minimum Temperature  Maximum Temperature  Wind Speed  \\\n",
       "0   15      8  2019                 25.3                 34.4        18.3   \n",
       "1   16      4  2020                 23.6                 39.0        16.6   \n",
       "2   11      8  2018                 28.0                 35.0        18.4   \n",
       "3   22      1  2019                 13.0                 18.0        22.3   \n",
       "4   17      6  2021                 28.0                 35.7        18.4   \n",
       "\n",
       "   Wind Direction  Visibility  Cloud Cover  Relative Humidity  \\\n",
       "0          107.04         3.1         68.3              80.96   \n",
       "1          247.63         3.4         34.4              33.62   \n",
       "2          244.83         3.4         79.5              74.81   \n",
       "3           95.38         1.8         66.9              94.96   \n",
       "4           99.79         3.4         52.3              67.76   \n",
       "\n",
       "   Sea Level Pressure  Dew Point  Condition1  \n",
       "0              1000.6       26.6           4  \n",
       "1              1005.9       12.1           2  \n",
       "2               997.0       26.5           4  \n",
       "3              1014.2       14.4           4  \n",
       "4               999.6       24.3           4  "
      ]
     },
     "execution_count": 54,
     "metadata": {},
     "output_type": "execute_result"
    }
   ],
   "source": [
    "df_train.head()"
   ]
  },
  {
   "cell_type": "markdown",
   "metadata": {},
   "source": [
    "# Feature Selection"
   ]
  },
  {
   "cell_type": "markdown",
   "metadata": {},
   "source": [
    "**feature selection for condition1**"
   ]
  },
  {
   "cell_type": "code",
   "execution_count": 55,
   "metadata": {},
   "outputs": [],
   "source": [
    "X_train=df_train.drop(['Condition1'],axis=1)\n",
    "y_train=df_train['Condition1']\n",
    "\n",
    "X_test=df_test.drop(['Condition1'],axis=1)\n",
    "y_test=df_test['Condition1']"
   ]
  },
  {
   "cell_type": "code",
   "execution_count": 56,
   "metadata": {},
   "outputs": [
    {
     "data": {
      "text/plain": [
       "(array([1.20015206e+01, 4.15601667e+00, 4.57485815e+01, 2.87131985e+02,\n",
       "        3.05456477e+01, 4.71075150e+01, 4.98549270e+01, 5.54415040e+01,\n",
       "        4.81688373e+03, 1.13498586e+02, 2.62741422e+02, 4.01156587e+02]),\n",
       " array([8.30541066e-008, 6.00918004e-003, 7.08817646e-029, 4.98078121e-163,\n",
       "        1.96184575e-019, 1.02833495e-029, 2.08958627e-031, 7.79398607e-035,\n",
       "        0.00000000e+000, 1.84826302e-069, 1.07290203e-150, 1.14022021e-217]))"
      ]
     },
     "execution_count": 56,
     "metadata": {},
     "output_type": "execute_result"
    }
   ],
   "source": [
    "#Filter method for feature selection\n",
    "#lets perform ANOVA statistical test\n",
    "from sklearn.feature_selection import f_classif\n",
    "model=f_classif(X_train,y_train)\n",
    "model"
   ]
  },
  {
   "cell_type": "code",
   "execution_count": 57,
   "metadata": {},
   "outputs": [
    {
     "data": {
      "text/plain": [
       "Cloud Cover             0.000000e+00\n",
       "Dew Point              1.140220e-217\n",
       "Minimum Temperature    4.980781e-163\n",
       "Sea Level Pressure     1.072902e-150\n",
       "Relative Humidity       1.848263e-69\n",
       "Visibility              7.793986e-35\n",
       "Wind Direction          2.089586e-31\n",
       "Wind Speed              1.028335e-29\n",
       "year                    7.088176e-29\n",
       "Maximum Temperature     1.961846e-19\n",
       "day                     8.305411e-08\n",
       "month                   6.009180e-03\n",
       "dtype: float64"
      ]
     },
     "execution_count": 57,
     "metadata": {},
     "output_type": "execute_result"
    }
   ],
   "source": [
    "p_values=pd.Series(model[1])\n",
    "p_values.index=X_train.columns\n",
    "p_values.sort_values(ascending=True)"
   ]
  },
  {
   "cell_type": "code",
   "execution_count": 58,
   "metadata": {},
   "outputs": [
    {
     "data": {
      "text/plain": [
       "Cloud Cover             0.000000e+00\n",
       "Dew Point              1.140220e-217\n",
       "Minimum Temperature    4.980781e-163\n",
       "Sea Level Pressure     1.072902e-150\n",
       "Relative Humidity       1.848263e-69\n",
       "Visibility              7.793986e-35\n",
       "Wind Direction          2.089586e-31\n",
       "Wind Speed              1.028335e-29\n",
       "year                    7.088176e-29\n",
       "Maximum Temperature     1.961846e-19\n",
       "day                     8.305411e-08\n",
       "month                   6.009180e-03\n",
       "dtype: float64"
      ]
     },
     "execution_count": 58,
     "metadata": {},
     "output_type": "execute_result"
    }
   ],
   "source": [
    "#to check for only significant features where the p-value is less than 0.05\n",
    "p_values[p_values<0.05].sort_values(ascending=True)"
   ]
  },
  {
   "cell_type": "code",
   "execution_count": 59,
   "metadata": {},
   "outputs": [
    {
     "data": {
      "text/plain": [
       "Index(['year', 'Minimum Temperature', 'Wind Speed', 'Wind Direction',\n",
       "       'Visibility', 'Cloud Cover', 'Relative Humidity', 'Sea Level Pressure',\n",
       "       'Dew Point'],\n",
       "      dtype='object')"
      ]
     },
     "execution_count": 59,
     "metadata": {},
     "output_type": "execute_result"
    }
   ],
   "source": [
    "from sklearn.feature_selection import SelectKBest\n",
    "fs = SelectKBest(score_func=f_classif, k=9)\n",
    "fs.fit_transform(X_train,y_train)\n",
    "X_train.columns[fs.get_support()]"
   ]
  },
  {
   "cell_type": "code",
   "execution_count": 60,
   "metadata": {},
   "outputs": [
    {
     "data": {
      "text/plain": [
       "Index(['year', 'Minimum Temperature', 'Wind Speed', 'Wind Direction',\n",
       "       'Visibility', 'Cloud Cover', 'Relative Humidity', 'Sea Level Pressure',\n",
       "       'Dew Point'],\n",
       "      dtype='object')"
      ]
     },
     "execution_count": 60,
     "metadata": {},
     "output_type": "execute_result"
    }
   ],
   "source": [
    "X_train.columns[fs.get_support()]"
   ]
  },
  {
   "cell_type": "markdown",
   "metadata": {},
   "source": [
    "So after performing anova test we can infer that all the features are significant but Cloud Cover and dew point are more significant for predicting the target feature."
   ]
  },
  {
   "cell_type": "code",
   "execution_count": 61,
   "metadata": {},
   "outputs": [],
   "source": [
    "selected_features=['Minimum Temperature', 'Maximum Temperature','Wind Speed',\n",
    "       'Wind Direction', 'Cloud Cover', 'Relative Humidity','Visibility',\n",
    "       'Sea Level Pressure', 'Dew Point']"
   ]
  },
  {
   "cell_type": "code",
   "execution_count": 62,
   "metadata": {},
   "outputs": [],
   "source": [
    "X_train=X_train.loc[:,selected_features]"
   ]
  },
  {
   "cell_type": "code",
   "execution_count": 63,
   "metadata": {},
   "outputs": [
    {
     "data": {
      "text/html": [
       "<div>\n",
       "<style scoped>\n",
       "    .dataframe tbody tr th:only-of-type {\n",
       "        vertical-align: middle;\n",
       "    }\n",
       "\n",
       "    .dataframe tbody tr th {\n",
       "        vertical-align: top;\n",
       "    }\n",
       "\n",
       "    .dataframe thead th {\n",
       "        text-align: right;\n",
       "    }\n",
       "</style>\n",
       "<table border=\"1\" class=\"dataframe\">\n",
       "  <thead>\n",
       "    <tr style=\"text-align: right;\">\n",
       "      <th></th>\n",
       "      <th>Minimum Temperature</th>\n",
       "      <th>Maximum Temperature</th>\n",
       "      <th>Wind Speed</th>\n",
       "      <th>Wind Direction</th>\n",
       "      <th>Cloud Cover</th>\n",
       "      <th>Relative Humidity</th>\n",
       "      <th>Visibility</th>\n",
       "      <th>Sea Level Pressure</th>\n",
       "      <th>Dew Point</th>\n",
       "    </tr>\n",
       "  </thead>\n",
       "  <tbody>\n",
       "    <tr>\n",
       "      <th>0</th>\n",
       "      <td>25.3</td>\n",
       "      <td>34.4</td>\n",
       "      <td>18.3</td>\n",
       "      <td>107.04</td>\n",
       "      <td>68.3</td>\n",
       "      <td>80.96</td>\n",
       "      <td>3.1</td>\n",
       "      <td>1000.6</td>\n",
       "      <td>26.6</td>\n",
       "    </tr>\n",
       "    <tr>\n",
       "      <th>1</th>\n",
       "      <td>23.6</td>\n",
       "      <td>39.0</td>\n",
       "      <td>16.6</td>\n",
       "      <td>247.63</td>\n",
       "      <td>34.4</td>\n",
       "      <td>33.62</td>\n",
       "      <td>3.4</td>\n",
       "      <td>1005.9</td>\n",
       "      <td>12.1</td>\n",
       "    </tr>\n",
       "    <tr>\n",
       "      <th>2</th>\n",
       "      <td>28.0</td>\n",
       "      <td>35.0</td>\n",
       "      <td>18.4</td>\n",
       "      <td>244.83</td>\n",
       "      <td>79.5</td>\n",
       "      <td>74.81</td>\n",
       "      <td>3.4</td>\n",
       "      <td>997.0</td>\n",
       "      <td>26.5</td>\n",
       "    </tr>\n",
       "    <tr>\n",
       "      <th>3</th>\n",
       "      <td>13.0</td>\n",
       "      <td>18.0</td>\n",
       "      <td>22.3</td>\n",
       "      <td>95.38</td>\n",
       "      <td>66.9</td>\n",
       "      <td>94.96</td>\n",
       "      <td>1.8</td>\n",
       "      <td>1014.2</td>\n",
       "      <td>14.4</td>\n",
       "    </tr>\n",
       "    <tr>\n",
       "      <th>4</th>\n",
       "      <td>28.0</td>\n",
       "      <td>35.7</td>\n",
       "      <td>18.4</td>\n",
       "      <td>99.79</td>\n",
       "      <td>52.3</td>\n",
       "      <td>67.76</td>\n",
       "      <td>3.4</td>\n",
       "      <td>999.6</td>\n",
       "      <td>24.3</td>\n",
       "    </tr>\n",
       "  </tbody>\n",
       "</table>\n",
       "</div>"
      ],
      "text/plain": [
       "   Minimum Temperature  Maximum Temperature  Wind Speed  Wind Direction  \\\n",
       "0                 25.3                 34.4        18.3          107.04   \n",
       "1                 23.6                 39.0        16.6          247.63   \n",
       "2                 28.0                 35.0        18.4          244.83   \n",
       "3                 13.0                 18.0        22.3           95.38   \n",
       "4                 28.0                 35.7        18.4           99.79   \n",
       "\n",
       "   Cloud Cover  Relative Humidity  Visibility  Sea Level Pressure  Dew Point  \n",
       "0         68.3              80.96         3.1              1000.6       26.6  \n",
       "1         34.4              33.62         3.4              1005.9       12.1  \n",
       "2         79.5              74.81         3.4               997.0       26.5  \n",
       "3         66.9              94.96         1.8              1014.2       14.4  \n",
       "4         52.3              67.76         3.4               999.6       24.3  "
      ]
     },
     "execution_count": 63,
     "metadata": {},
     "output_type": "execute_result"
    }
   ],
   "source": [
    "X_train.head()"
   ]
  },
  {
   "cell_type": "markdown",
   "metadata": {},
   "source": [
    "**Feature Importance method**"
   ]
  },
  {
   "cell_type": "code",
   "execution_count": 64,
   "metadata": {},
   "outputs": [
    {
     "data": {
      "text/plain": [
       "ExtraTreesClassifier()"
      ]
     },
     "execution_count": 64,
     "metadata": {},
     "output_type": "execute_result"
    }
   ],
   "source": [
    "X_feat=df_train.drop(['Condition1'],axis=1)\n",
    "y_feat=df_train['Condition1']\n",
    "\n",
    "#Embedded method for feature selection\n",
    "#Feature Importance using Extra Regressor\n",
    "from sklearn.ensemble import ExtraTreesClassifier\n",
    "selection=ExtraTreesClassifier()\n",
    "selection.fit(X_feat,y_feat)"
   ]
  },
  {
   "cell_type": "code",
   "execution_count": 65,
   "metadata": {},
   "outputs": [
    {
     "name": "stdout",
     "output_type": "stream",
     "text": [
      "[0.04235531 0.04761274 0.04306529 0.05996619 0.05012791 0.04809304\n",
      " 0.06014836 0.04965636 0.39911664 0.08199881 0.0490521  0.06880725]\n"
     ]
    }
   ],
   "source": [
    "print(selection.feature_importances_)"
   ]
  },
  {
   "cell_type": "code",
   "execution_count": 66,
   "metadata": {},
   "outputs": [
    {
     "data": {
      "text/plain": [
       "<AxesSubplot:>"
      ]
     },
     "execution_count": 66,
     "metadata": {},
     "output_type": "execute_result"
    },
    {
     "data": {
      "image/png": "[encoded data removed]",
      "text/plain": [
       "<Figure size 864x576 with 1 Axes>"
      ]
     },
     "metadata": {
      "needs_background": "light"
     },
     "output_type": "display_data"
    }
   ],
   "source": [
    "plt.figure(figsize=(12,8))\n",
    "feat_importances = pd.Series(selection.feature_importances_, index=X_feat.columns)\n",
    "feat_importances.nlargest(20).plot(kind='barh')"
   ]
  },
  {
   "cell_type": "markdown",
   "metadata": {},
   "source": [
    "**X_train,X_test,y_train,y_test data preparation**"
   ]
  },
  {
   "cell_type": "code",
   "execution_count": 67,
   "metadata": {},
   "outputs": [
    {
     "data": {
      "text/html": [
       "<div>\n",
       "<style scoped>\n",
       "    .dataframe tbody tr th:only-of-type {\n",
       "        vertical-align: middle;\n",
       "    }\n",
       "\n",
       "    .dataframe tbody tr th {\n",
       "        vertical-align: top;\n",
       "    }\n",
       "\n",
       "    .dataframe thead th {\n",
       "        text-align: right;\n",
       "    }\n",
       "</style>\n",
       "<table border=\"1\" class=\"dataframe\">\n",
       "  <thead>\n",
       "    <tr style=\"text-align: right;\">\n",
       "      <th></th>\n",
       "      <th>Minimum Temperature</th>\n",
       "      <th>Maximum Temperature</th>\n",
       "      <th>Wind Speed</th>\n",
       "      <th>Wind Direction</th>\n",
       "      <th>Cloud Cover</th>\n",
       "      <th>Relative Humidity</th>\n",
       "      <th>Visibility</th>\n",
       "      <th>Sea Level Pressure</th>\n",
       "      <th>Dew Point</th>\n",
       "    </tr>\n",
       "  </thead>\n",
       "  <tbody>\n",
       "    <tr>\n",
       "      <th>0</th>\n",
       "      <td>25.3</td>\n",
       "      <td>34.4</td>\n",
       "      <td>18.3</td>\n",
       "      <td>107.04</td>\n",
       "      <td>68.3</td>\n",
       "      <td>80.96</td>\n",
       "      <td>3.1</td>\n",
       "      <td>1000.6</td>\n",
       "      <td>26.6</td>\n",
       "    </tr>\n",
       "    <tr>\n",
       "      <th>1</th>\n",
       "      <td>23.6</td>\n",
       "      <td>39.0</td>\n",
       "      <td>16.6</td>\n",
       "      <td>247.63</td>\n",
       "      <td>34.4</td>\n",
       "      <td>33.62</td>\n",
       "      <td>3.4</td>\n",
       "      <td>1005.9</td>\n",
       "      <td>12.1</td>\n",
       "    </tr>\n",
       "    <tr>\n",
       "      <th>2</th>\n",
       "      <td>28.0</td>\n",
       "      <td>35.0</td>\n",
       "      <td>18.4</td>\n",
       "      <td>244.83</td>\n",
       "      <td>79.5</td>\n",
       "      <td>74.81</td>\n",
       "      <td>3.4</td>\n",
       "      <td>997.0</td>\n",
       "      <td>26.5</td>\n",
       "    </tr>\n",
       "    <tr>\n",
       "      <th>3</th>\n",
       "      <td>13.0</td>\n",
       "      <td>18.0</td>\n",
       "      <td>22.3</td>\n",
       "      <td>95.38</td>\n",
       "      <td>66.9</td>\n",
       "      <td>94.96</td>\n",
       "      <td>1.8</td>\n",
       "      <td>1014.2</td>\n",
       "      <td>14.4</td>\n",
       "    </tr>\n",
       "    <tr>\n",
       "      <th>4</th>\n",
       "      <td>28.0</td>\n",
       "      <td>35.7</td>\n",
       "      <td>18.4</td>\n",
       "      <td>99.79</td>\n",
       "      <td>52.3</td>\n",
       "      <td>67.76</td>\n",
       "      <td>3.4</td>\n",
       "      <td>999.6</td>\n",
       "      <td>24.3</td>\n",
       "    </tr>\n",
       "  </tbody>\n",
       "</table>\n",
       "</div>"
      ],
      "text/plain": [
       "   Minimum Temperature  Maximum Temperature  Wind Speed  Wind Direction  \\\n",
       "0                 25.3                 34.4        18.3          107.04   \n",
       "1                 23.6                 39.0        16.6          247.63   \n",
       "2                 28.0                 35.0        18.4          244.83   \n",
       "3                 13.0                 18.0        22.3           95.38   \n",
       "4                 28.0                 35.7        18.4           99.79   \n",
       "\n",
       "   Cloud Cover  Relative Humidity  Visibility  Sea Level Pressure  Dew Point  \n",
       "0         68.3              80.96         3.1              1000.6       26.6  \n",
       "1         34.4              33.62         3.4              1005.9       12.1  \n",
       "2         79.5              74.81         3.4               997.0       26.5  \n",
       "3         66.9              94.96         1.8              1014.2       14.4  \n",
       "4         52.3              67.76         3.4               999.6       24.3  "
      ]
     },
     "execution_count": 67,
     "metadata": {},
     "output_type": "execute_result"
    }
   ],
   "source": [
    "X_train.head()"
   ]
  },
  {
   "cell_type": "code",
   "execution_count": 68,
   "metadata": {},
   "outputs": [],
   "source": [
    "y_train=df_train['Condition1']\n",
    "\n",
    "X_test=df_test[selected_features]\n",
    "y_test=df_test['Condition1']"
   ]
  },
  {
   "cell_type": "code",
   "execution_count": 69,
   "metadata": {},
   "outputs": [
    {
     "data": {
      "text/plain": [
       "0    4\n",
       "1    2\n",
       "2    4\n",
       "3    4\n",
       "4    4\n",
       "Name: Condition1, dtype: int64"
      ]
     },
     "execution_count": 69,
     "metadata": {},
     "output_type": "execute_result"
    }
   ],
   "source": [
    "y_train.head()"
   ]
  },
  {
   "cell_type": "code",
   "execution_count": 70,
   "metadata": {},
   "outputs": [
    {
     "data": {
      "text/html": [
       "<div>\n",
       "<style scoped>\n",
       "    .dataframe tbody tr th:only-of-type {\n",
       "        vertical-align: middle;\n",
       "    }\n",
       "\n",
       "    .dataframe tbody tr th {\n",
       "        vertical-align: top;\n",
       "    }\n",
       "\n",
       "    .dataframe thead th {\n",
       "        text-align: right;\n",
       "    }\n",
       "</style>\n",
       "<table border=\"1\" class=\"dataframe\">\n",
       "  <thead>\n",
       "    <tr style=\"text-align: right;\">\n",
       "      <th></th>\n",
       "      <th>Minimum Temperature</th>\n",
       "      <th>Maximum Temperature</th>\n",
       "      <th>Wind Speed</th>\n",
       "      <th>Wind Direction</th>\n",
       "      <th>Cloud Cover</th>\n",
       "      <th>Relative Humidity</th>\n",
       "      <th>Visibility</th>\n",
       "      <th>Sea Level Pressure</th>\n",
       "      <th>Dew Point</th>\n",
       "    </tr>\n",
       "  </thead>\n",
       "  <tbody>\n",
       "    <tr>\n",
       "      <th>309</th>\n",
       "      <td>16.2</td>\n",
       "      <td>29.0</td>\n",
       "      <td>13.0</td>\n",
       "      <td>117.58</td>\n",
       "      <td>0.0</td>\n",
       "      <td>71.75</td>\n",
       "      <td>0.1</td>\n",
       "      <td>1010.3</td>\n",
       "      <td>15.8</td>\n",
       "    </tr>\n",
       "    <tr>\n",
       "      <th>285</th>\n",
       "      <td>21.0</td>\n",
       "      <td>34.8</td>\n",
       "      <td>21.3</td>\n",
       "      <td>214.63</td>\n",
       "      <td>0.0</td>\n",
       "      <td>53.42</td>\n",
       "      <td>3.0</td>\n",
       "      <td>1005.8</td>\n",
       "      <td>16.5</td>\n",
       "    </tr>\n",
       "    <tr>\n",
       "      <th>919</th>\n",
       "      <td>29.1</td>\n",
       "      <td>40.0</td>\n",
       "      <td>13.0</td>\n",
       "      <td>121.26</td>\n",
       "      <td>21.0</td>\n",
       "      <td>52.17</td>\n",
       "      <td>3.4</td>\n",
       "      <td>995.6</td>\n",
       "      <td>23.3</td>\n",
       "    </tr>\n",
       "    <tr>\n",
       "      <th>120</th>\n",
       "      <td>23.3</td>\n",
       "      <td>40.3</td>\n",
       "      <td>14.2</td>\n",
       "      <td>203.04</td>\n",
       "      <td>0.0</td>\n",
       "      <td>23.50</td>\n",
       "      <td>2.3</td>\n",
       "      <td>1004.2</td>\n",
       "      <td>7.8</td>\n",
       "    </tr>\n",
       "    <tr>\n",
       "      <th>585</th>\n",
       "      <td>27.1</td>\n",
       "      <td>34.9</td>\n",
       "      <td>12.7</td>\n",
       "      <td>89.21</td>\n",
       "      <td>67.0</td>\n",
       "      <td>83.45</td>\n",
       "      <td>2.9</td>\n",
       "      <td>1001.4</td>\n",
       "      <td>26.9</td>\n",
       "    </tr>\n",
       "  </tbody>\n",
       "</table>\n",
       "</div>"
      ],
      "text/plain": [
       "     Minimum Temperature  Maximum Temperature  Wind Speed  Wind Direction  \\\n",
       "309                 16.2                 29.0        13.0          117.58   \n",
       "285                 21.0                 34.8        21.3          214.63   \n",
       "919                 29.1                 40.0        13.0          121.26   \n",
       "120                 23.3                 40.3        14.2          203.04   \n",
       "585                 27.1                 34.9        12.7           89.21   \n",
       "\n",
       "     Cloud Cover  Relative Humidity  Visibility  Sea Level Pressure  Dew Point  \n",
       "309          0.0              71.75         0.1              1010.3       15.8  \n",
       "285          0.0              53.42         3.0              1005.8       16.5  \n",
       "919         21.0              52.17         3.4               995.6       23.3  \n",
       "120          0.0              23.50         2.3              1004.2        7.8  \n",
       "585         67.0              83.45         2.9              1001.4       26.9  "
      ]
     },
     "execution_count": 70,
     "metadata": {},
     "output_type": "execute_result"
    }
   ],
   "source": [
    "X_test.head()"
   ]
  },
  {
   "cell_type": "code",
   "execution_count": 71,
   "metadata": {},
   "outputs": [
    {
     "data": {
      "text/plain": [
       "309    1\n",
       "285    1\n",
       "919    1\n",
       "120    1\n",
       "585    4\n",
       "Name: Condition1, dtype: int64"
      ]
     },
     "execution_count": 71,
     "metadata": {},
     "output_type": "execute_result"
    }
   ],
   "source": [
    "y_test.head()"
   ]
  },
  {
   "cell_type": "markdown",
   "metadata": {},
   "source": [
    "# Feature Scaling"
   ]
  },
  {
   "cell_type": "code",
   "execution_count": 72,
   "metadata": {},
   "outputs": [
    {
     "data": {
      "text/plain": [
       "array([[ 0.47558707,  0.35672789,  0.26216849, ...,  0.54280305,\n",
       "        -0.76295152,  1.29246063],\n",
       "       [ 0.24564053,  1.07703017, -0.06340799, ...,  0.94632045,\n",
       "        -0.04677455, -0.92201101],\n",
       "       [ 0.84079627,  0.45068036,  0.28132004, ...,  0.94632045,\n",
       "        -1.24941135,  1.27718841],\n",
       "       ...,\n",
       "       [ 0.45227252,  1.07703017,  0.45134977, ...,  0.56357952,\n",
       "         0.03320408, -0.16609767],\n",
       "       [ 1.0119072 ,  0.77768856, -0.52869787, ...,  0.30515196,\n",
       "        -1.09670973,  1.21863118],\n",
       "       [ 0.77500856,  0.19935417,  0.12296938, ...,  0.35754407,\n",
       "        -0.95366196,  1.25490456]])"
      ]
     },
     "execution_count": 72,
     "metadata": {},
     "output_type": "execute_result"
    }
   ],
   "source": [
    "#scaling down Train data\n",
    "from sklearn.preprocessing import StandardScaler\n",
    "scaler=StandardScaler()\n",
    "X_train_scaled=scaler.fit_transform(X_train)\n",
    "X_train_scaled"
   ]
  },
  {
   "cell_type": "code",
   "execution_count": 73,
   "metadata": {},
   "outputs": [
    {
     "data": {
      "text/plain": [
       "array([[-0.75530322, -0.48884435, -0.75286405, ..., -3.49237093,\n",
       "         0.54778746, -0.35693894],\n",
       "       [-0.10604241,  0.41936287,  0.8367152 , ...,  0.40829725,\n",
       "        -0.06028733, -0.25003341],\n",
       "       [ 0.98958521,  1.23361762, -0.75286405, ...,  0.94632045,\n",
       "        -1.43859017,  0.78847743],\n",
       "       ...,\n",
       "       [ 0.86784881,  0.45068036, -1.44232011, ...,  0.13928566,\n",
       "        -0.06028733,  1.04810514],\n",
       "       [-1.59393176, -1.14651165, -1.61468412, ..., -1.07126654,\n",
       "         1.1288367 , -1.02891654],\n",
       "       [ 0.36737693,  1.06137143, -0.31237823, ...,  1.75335525,\n",
       "         0.06132763, -0.47911669]])"
      ]
     },
     "execution_count": 73,
     "metadata": {},
     "output_type": "execute_result"
    }
   ],
   "source": [
    "#scaling down Test data\n",
    "X_test_scaled=scaler.transform(X_test)\n",
    "X_test_scaled"
   ]
  },
  {
   "cell_type": "code",
   "execution_count": 74,
   "metadata": {},
   "outputs": [],
   "source": [
    "df_Xscaled=pd.DataFrame(X_train_scaled,columns=X_train.columns)"
   ]
  },
  {
   "cell_type": "code",
   "execution_count": 75,
   "metadata": {},
   "outputs": [],
   "source": [
    "df_train_scaled=pd.concat([df_Xscaled,y_train.reset_index(drop=True)],axis=1)"
   ]
  },
  {
   "cell_type": "code",
   "execution_count": 76,
   "metadata": {},
   "outputs": [
    {
     "data": {
      "text/html": [
       "<div>\n",
       "<style scoped>\n",
       "    .dataframe tbody tr th:only-of-type {\n",
       "        vertical-align: middle;\n",
       "    }\n",
       "\n",
       "    .dataframe tbody tr th {\n",
       "        vertical-align: top;\n",
       "    }\n",
       "\n",
       "    .dataframe thead th {\n",
       "        text-align: right;\n",
       "    }\n",
       "</style>\n",
       "<table border=\"1\" class=\"dataframe\">\n",
       "  <thead>\n",
       "    <tr style=\"text-align: right;\">\n",
       "      <th></th>\n",
       "      <th>Minimum Temperature</th>\n",
       "      <th>Maximum Temperature</th>\n",
       "      <th>Wind Speed</th>\n",
       "      <th>Wind Direction</th>\n",
       "      <th>Cloud Cover</th>\n",
       "      <th>Relative Humidity</th>\n",
       "      <th>Visibility</th>\n",
       "      <th>Sea Level Pressure</th>\n",
       "      <th>Dew Point</th>\n",
       "      <th>Condition1</th>\n",
       "    </tr>\n",
       "  </thead>\n",
       "  <tbody>\n",
       "    <tr>\n",
       "      <th>0</th>\n",
       "      <td>0.475587</td>\n",
       "      <td>0.356728</td>\n",
       "      <td>0.262168</td>\n",
       "      <td>-0.989133</td>\n",
       "      <td>0.716622</td>\n",
       "      <td>1.121169</td>\n",
       "      <td>0.542803</td>\n",
       "      <td>-0.762952</td>\n",
       "      <td>1.292461</td>\n",
       "      <td>4</td>\n",
       "    </tr>\n",
       "    <tr>\n",
       "      <th>1</th>\n",
       "      <td>0.245641</td>\n",
       "      <td>1.077030</td>\n",
       "      <td>-0.063408</td>\n",
       "      <td>1.250488</td>\n",
       "      <td>-0.436349</td>\n",
       "      <td>-1.994309</td>\n",
       "      <td>0.946320</td>\n",
       "      <td>-0.046775</td>\n",
       "      <td>-0.922011</td>\n",
       "      <td>2</td>\n",
       "    </tr>\n",
       "    <tr>\n",
       "      <th>2</th>\n",
       "      <td>0.840796</td>\n",
       "      <td>0.450680</td>\n",
       "      <td>0.281320</td>\n",
       "      <td>1.205884</td>\n",
       "      <td>1.097544</td>\n",
       "      <td>0.716433</td>\n",
       "      <td>0.946320</td>\n",
       "      <td>-1.249411</td>\n",
       "      <td>1.277188</td>\n",
       "      <td>4</td>\n",
       "    </tr>\n",
       "    <tr>\n",
       "      <th>3</th>\n",
       "      <td>-1.188144</td>\n",
       "      <td>-2.211306</td>\n",
       "      <td>1.028231</td>\n",
       "      <td>-1.174879</td>\n",
       "      <td>0.669006</td>\n",
       "      <td>2.042518</td>\n",
       "      <td>-1.205772</td>\n",
       "      <td>1.074786</td>\n",
       "      <td>-0.570750</td>\n",
       "      <td>4</td>\n",
       "    </tr>\n",
       "    <tr>\n",
       "      <th>4</th>\n",
       "      <td>0.840796</td>\n",
       "      <td>0.560292</td>\n",
       "      <td>0.281320</td>\n",
       "      <td>-1.104627</td>\n",
       "      <td>0.172447</td>\n",
       "      <td>0.252468</td>\n",
       "      <td>0.946320</td>\n",
       "      <td>-0.898079</td>\n",
       "      <td>0.941200</td>\n",
       "      <td>4</td>\n",
       "    </tr>\n",
       "  </tbody>\n",
       "</table>\n",
       "</div>"
      ],
      "text/plain": [
       "   Minimum Temperature  Maximum Temperature  Wind Speed  Wind Direction  \\\n",
       "0             0.475587             0.356728    0.262168       -0.989133   \n",
       "1             0.245641             1.077030   -0.063408        1.250488   \n",
       "2             0.840796             0.450680    0.281320        1.205884   \n",
       "3            -1.188144            -2.211306    1.028231       -1.174879   \n",
       "4             0.840796             0.560292    0.281320       -1.104627   \n",
       "\n",
       "   Cloud Cover  Relative Humidity  Visibility  Sea Level Pressure  Dew Point  \\\n",
       "0     0.716622           1.121169    0.542803           -0.762952   1.292461   \n",
       "1    -0.436349          -1.994309    0.946320           -0.046775  -0.922011   \n",
       "2     1.097544           0.716433    0.946320           -1.249411   1.277188   \n",
       "3     0.669006           2.042518   -1.205772            1.074786  -0.570750   \n",
       "4     0.172447           0.252468    0.946320           -0.898079   0.941200   \n",
       "\n",
       "   Condition1  \n",
       "0           4  \n",
       "1           2  \n",
       "2           4  \n",
       "3           4  \n",
       "4           4  "
      ]
     },
     "execution_count": 76,
     "metadata": {},
     "output_type": "execute_result"
    }
   ],
   "source": [
    "df_train_scaled.head()"
   ]
  },
  {
   "cell_type": "code",
   "execution_count": 77,
   "metadata": {},
   "outputs": [],
   "source": [
    "df_Xscaledtest=pd.DataFrame(X_test_scaled,columns=X_test.columns)"
   ]
  },
  {
   "cell_type": "code",
   "execution_count": 78,
   "metadata": {},
   "outputs": [],
   "source": [
    "df_test_scaled=pd.concat([df_Xscaledtest,y_test.reset_index(drop=True)],axis=1)"
   ]
  },
  {
   "cell_type": "code",
   "execution_count": 79,
   "metadata": {},
   "outputs": [
    {
     "data": {
      "text/html": [
       "<div>\n",
       "<style scoped>\n",
       "    .dataframe tbody tr th:only-of-type {\n",
       "        vertical-align: middle;\n",
       "    }\n",
       "\n",
       "    .dataframe tbody tr th {\n",
       "        vertical-align: top;\n",
       "    }\n",
       "\n",
       "    .dataframe thead th {\n",
       "        text-align: right;\n",
       "    }\n",
       "</style>\n",
       "<table border=\"1\" class=\"dataframe\">\n",
       "  <thead>\n",
       "    <tr style=\"text-align: right;\">\n",
       "      <th></th>\n",
       "      <th>Minimum Temperature</th>\n",
       "      <th>Maximum Temperature</th>\n",
       "      <th>Wind Speed</th>\n",
       "      <th>Wind Direction</th>\n",
       "      <th>Cloud Cover</th>\n",
       "      <th>Relative Humidity</th>\n",
       "      <th>Visibility</th>\n",
       "      <th>Sea Level Pressure</th>\n",
       "      <th>Dew Point</th>\n",
       "      <th>Condition1</th>\n",
       "    </tr>\n",
       "  </thead>\n",
       "  <tbody>\n",
       "    <tr>\n",
       "      <th>0</th>\n",
       "      <td>-0.755303</td>\n",
       "      <td>-0.488844</td>\n",
       "      <td>-0.752864</td>\n",
       "      <td>-0.821229</td>\n",
       "      <td>-1.606325</td>\n",
       "      <td>0.515052</td>\n",
       "      <td>-3.492371</td>\n",
       "      <td>0.547787</td>\n",
       "      <td>-0.356939</td>\n",
       "      <td>1</td>\n",
       "    </tr>\n",
       "    <tr>\n",
       "      <th>1</th>\n",
       "      <td>-0.106042</td>\n",
       "      <td>0.419363</td>\n",
       "      <td>0.836715</td>\n",
       "      <td>0.724793</td>\n",
       "      <td>-1.606325</td>\n",
       "      <td>-0.691258</td>\n",
       "      <td>0.408297</td>\n",
       "      <td>-0.060287</td>\n",
       "      <td>-0.250033</td>\n",
       "      <td>1</td>\n",
       "    </tr>\n",
       "    <tr>\n",
       "      <th>2</th>\n",
       "      <td>0.989585</td>\n",
       "      <td>1.233618</td>\n",
       "      <td>-0.752864</td>\n",
       "      <td>-0.762606</td>\n",
       "      <td>-0.892095</td>\n",
       "      <td>-0.773521</td>\n",
       "      <td>0.946320</td>\n",
       "      <td>-1.438590</td>\n",
       "      <td>0.788477</td>\n",
       "      <td>1</td>\n",
       "    </tr>\n",
       "    <tr>\n",
       "      <th>3</th>\n",
       "      <td>0.205062</td>\n",
       "      <td>1.280594</td>\n",
       "      <td>-0.523045</td>\n",
       "      <td>0.540162</td>\n",
       "      <td>-1.606325</td>\n",
       "      <td>-2.660313</td>\n",
       "      <td>-0.533243</td>\n",
       "      <td>-0.276492</td>\n",
       "      <td>-1.578716</td>\n",
       "      <td>1</td>\n",
       "    </tr>\n",
       "    <tr>\n",
       "      <th>4</th>\n",
       "      <td>0.719060</td>\n",
       "      <td>0.435022</td>\n",
       "      <td>-0.810319</td>\n",
       "      <td>-1.273168</td>\n",
       "      <td>0.672408</td>\n",
       "      <td>1.285037</td>\n",
       "      <td>0.273791</td>\n",
       "      <td>-0.654849</td>\n",
       "      <td>1.338277</td>\n",
       "      <td>4</td>\n",
       "    </tr>\n",
       "  </tbody>\n",
       "</table>\n",
       "</div>"
      ],
      "text/plain": [
       "   Minimum Temperature  Maximum Temperature  Wind Speed  Wind Direction  \\\n",
       "0            -0.755303            -0.488844   -0.752864       -0.821229   \n",
       "1            -0.106042             0.419363    0.836715        0.724793   \n",
       "2             0.989585             1.233618   -0.752864       -0.762606   \n",
       "3             0.205062             1.280594   -0.523045        0.540162   \n",
       "4             0.719060             0.435022   -0.810319       -1.273168   \n",
       "\n",
       "   Cloud Cover  Relative Humidity  Visibility  Sea Level Pressure  Dew Point  \\\n",
       "0    -1.606325           0.515052   -3.492371            0.547787  -0.356939   \n",
       "1    -1.606325          -0.691258    0.408297           -0.060287  -0.250033   \n",
       "2    -0.892095          -0.773521    0.946320           -1.438590   0.788477   \n",
       "3    -1.606325          -2.660313   -0.533243           -0.276492  -1.578716   \n",
       "4     0.672408           1.285037    0.273791           -0.654849   1.338277   \n",
       "\n",
       "   Condition1  \n",
       "0           1  \n",
       "1           1  \n",
       "2           1  \n",
       "3           1  \n",
       "4           4  "
      ]
     },
     "execution_count": 79,
     "metadata": {},
     "output_type": "execute_result"
    }
   ],
   "source": [
    "df_test_scaled.head()"
   ]
  },
  {
   "cell_type": "code",
   "execution_count": 80,
   "metadata": {},
   "outputs": [],
   "source": [
    "X_train=df_train_scaled.drop(['Condition1'],axis=1)\n",
    "y_train=df_train_scaled['Condition1']\n",
    "\n",
    "X_test=df_test_scaled.drop(['Condition1'],axis=1)\n",
    "y_test=df_test_scaled['Condition1']"
   ]
  },
  {
   "cell_type": "markdown",
   "metadata": {},
   "source": [
    "# Fitting ML Model"
   ]
  },
  {
   "cell_type": "code",
   "execution_count": 81,
   "metadata": {},
   "outputs": [],
   "source": [
    "from sklearn.ensemble import RandomForestClassifier"
   ]
  },
  {
   "cell_type": "markdown",
   "metadata": {},
   "source": [
    "**RANDOM FOREST CLASSIFIER**"
   ]
  },
  {
   "cell_type": "code",
   "execution_count": 82,
   "metadata": {},
   "outputs": [],
   "source": [
    "rf=RandomForestClassifier()\n",
    "rf.fit(X_train,y_train)\n",
    "\n",
    "y_pred=rf.predict(X_test)"
   ]
  },
  {
   "cell_type": "code",
   "execution_count": 83,
   "metadata": {},
   "outputs": [
    {
     "name": "stdout",
     "output_type": "stream",
     "text": [
      "Model Accuracy: 0.8808933002481389\n",
      "\n",
      "\n",
      "Classification Report: \n",
      "\n",
      "              precision    recall  f1-score   support\n",
      "\n",
      "           1       0.99      0.99      0.99       187\n",
      "           2       0.79      0.86      0.82       111\n",
      "           3       0.25      0.50      0.33         2\n",
      "           4       0.80      0.71      0.75       103\n",
      "\n",
      "    accuracy                           0.88       403\n",
      "   macro avg       0.71      0.76      0.73       403\n",
      "weighted avg       0.88      0.88      0.88       403\n",
      "\n",
      "\n",
      "\n",
      "Confusion Matrix: \n",
      "\n",
      "[[186   0   0   1]\n",
      " [  0  95   0  16]\n",
      " [  0   0   1   1]\n",
      " [  2  25   3  73]]\n"
     ]
    }
   ],
   "source": [
    "from sklearn import metrics\n",
    "print(\"Model Accuracy: {}\".format(metrics.accuracy_score(y_test,y_pred)))\n",
    "print('\\n')\n",
    "print(\"Classification Report: \\n\")\n",
    "print(metrics.classification_report(y_test,y_pred))\n",
    "print('\\n')\n",
    "print(\"Confusion Matrix: \\n\")\n",
    "print(metrics.confusion_matrix(y_test,y_pred))"
   ]
  },
  {
   "cell_type": "markdown",
   "metadata": {},
   "source": [
    "# Hyper Parameter Optimization"
   ]
  },
  {
   "cell_type": "code",
   "execution_count": 84,
   "metadata": {},
   "outputs": [],
   "source": [
    "from sklearn.model_selection import RandomizedSearchCV"
   ]
  },
  {
   "cell_type": "code",
   "execution_count": 85,
   "metadata": {},
   "outputs": [],
   "source": [
    "# Number of trees in random forest\n",
    "n_estimators = [int(x) for x in np.linspace(start = 200, stop = 800, num = 8)]\n",
    "# Number of features to consider at every split\n",
    "max_features = ['auto', 'sqrt']\n",
    "# Maximum number of levels in tree\n",
    "max_depth = [int(x) for x in np.linspace(10, 30, num = 5)]\n",
    "max_depth.append(None)\n",
    "# Minimum number of samples required to split a node\n",
    "min_samples_split = [2, 5, 10]\n",
    "# Minimum number of samples required at each leaf node\n",
    "min_samples_leaf = [1, 2, 4]"
   ]
  },
  {
   "cell_type": "code",
   "execution_count": 86,
   "metadata": {},
   "outputs": [],
   "source": [
    "# Create the random grid\n",
    "random_grid = {'n_estimators': n_estimators,\n",
    "               'max_features': max_features,\n",
    "               'max_depth': max_depth,\n",
    "               'min_samples_split': min_samples_split,\n",
    "               'min_samples_leaf': min_samples_leaf\n",
    "              }"
   ]
  },
  {
   "cell_type": "code",
   "execution_count": 87,
   "metadata": {},
   "outputs": [],
   "source": [
    "rf_random = RandomizedSearchCV(estimator = rf, param_distributions = random_grid,scoring='roc_auc_ovr', n_iter = 100, cv = 3, verbose=2, n_jobs = -1)"
   ]
  },
  {
   "cell_type": "code",
   "execution_count": 88,
   "metadata": {},
   "outputs": [
    {
     "name": "stdout",
     "output_type": "stream",
     "text": [
      "Fitting 3 folds for each of 100 candidates, totalling 300 fits\n"
     ]
    },
    {
     "name": "stderr",
     "output_type": "stream",
     "text": [
      "[Parallel(n_jobs=-1)]: Using backend LokyBackend with 8 concurrent workers.\n",
      "[Parallel(n_jobs=-1)]: Done  25 tasks      | elapsed:   24.8s\n",
      "[Parallel(n_jobs=-1)]: Done 146 tasks      | elapsed:  2.0min\n",
      "[Parallel(n_jobs=-1)]: Done 300 out of 300 | elapsed:  3.7min finished\n"
     ]
    },
    {
     "data": {
      "text/plain": [
       "RandomizedSearchCV(cv=3, estimator=RandomForestClassifier(), n_iter=100,\n",
       "                   n_jobs=-1,\n",
       "                   param_distributions={'max_depth': [10, 15, 20, 25, 30, None],\n",
       "                                        'max_features': ['auto', 'sqrt'],\n",
       "                                        'min_samples_leaf': [1, 2, 4],\n",
       "                                        'min_samples_split': [2, 5, 10],\n",
       "                                        'n_estimators': [200, 285, 371, 457,\n",
       "                                                         542, 628, 714, 800]},\n",
       "                   scoring='roc_auc_ovr', verbose=2)"
      ]
     },
     "execution_count": 88,
     "metadata": {},
     "output_type": "execute_result"
    }
   ],
   "source": [
    "rf_random.fit(X_train,y_train)"
   ]
  },
  {
   "cell_type": "code",
   "execution_count": 89,
   "metadata": {},
   "outputs": [
    {
     "data": {
      "text/plain": [
       "{'n_estimators': 457,\n",
       " 'min_samples_split': 2,\n",
       " 'min_samples_leaf': 1,\n",
       " 'max_features': 'sqrt',\n",
       " 'max_depth': 30}"
      ]
     },
     "execution_count": 89,
     "metadata": {},
     "output_type": "execute_result"
    }
   ],
   "source": [
    "rf_random.best_params_"
   ]
  },
  {
   "cell_type": "code",
   "execution_count": 93,
   "metadata": {},
   "outputs": [
    {
     "data": {
      "text/plain": [
       "0.9877760898919753"
      ]
     },
     "execution_count": 93,
     "metadata": {},
     "output_type": "execute_result"
    }
   ],
   "source": [
    "rf_random.best_score_"
   ]
  },
  {
   "cell_type": "code",
   "execution_count": 94,
   "metadata": {},
   "outputs": [
    {
     "data": {
      "text/plain": [
       "array([1, 1, 1, 1, 4, 1, 1, 1, 2, 1, 1, 1, 1, 4, 1, 1, 1, 2, 1, 1, 4, 4,\n",
       "       1, 1, 1, 2, 1, 1, 1, 2, 4, 4, 2, 1, 1, 2, 2, 2, 2, 1, 1, 4, 2, 2,\n",
       "       1, 2, 2, 4, 1, 1, 1, 4, 1, 2, 1, 4, 2, 2, 2, 4, 2, 4, 2, 1, 2, 4,\n",
       "       1, 2, 2, 4, 1, 2, 1, 1, 2, 2, 1, 1, 2, 4, 1, 1, 2, 2, 1, 1, 1, 1,\n",
       "       1, 1, 1, 1, 2, 1, 2, 1, 4, 1, 2, 2, 2, 4, 2, 2, 1, 2, 2, 4, 1, 1,\n",
       "       2, 3, 4, 2, 2, 1, 1, 1, 2, 1, 1, 2, 2, 1, 1, 4, 1, 1, 2, 1, 4, 1,\n",
       "       1, 1, 1, 2, 1, 2, 1, 1, 1, 1, 1, 4, 1, 4, 4, 1, 2, 2, 2, 1, 4, 4,\n",
       "       1, 2, 2, 1, 2, 2, 1, 4, 1, 1, 2, 1, 2, 4, 4, 4, 1, 1, 2, 4, 2, 2,\n",
       "       2, 2, 4, 1, 2, 2, 2, 4, 2, 1, 1, 4, 4, 1, 2, 2, 1, 1, 4, 1, 2, 2,\n",
       "       4, 4, 2, 2, 1, 4, 1, 1, 4, 2, 2, 1, 2, 2, 2, 1, 4, 4, 2, 4, 2, 4,\n",
       "       1, 1, 1, 4, 2, 2, 1, 1, 4, 1, 1, 1, 4, 2, 4, 1, 4, 2, 1, 1, 1, 4,\n",
       "       2, 4, 2, 1, 4, 1, 1, 1, 1, 4, 4, 4, 1, 4, 1, 1, 2, 2, 1, 4, 4, 4,\n",
       "       2, 1, 1, 2, 2, 2, 4, 2, 1, 1, 4, 2, 4, 4, 2, 2, 4, 2, 1, 1, 1, 4,\n",
       "       1, 4, 2, 1, 1, 4, 1, 4, 1, 1, 4, 2, 4, 2, 1, 1, 2, 4, 1, 1, 1, 1,\n",
       "       4, 1, 4, 4, 2, 1, 1, 2, 4, 1, 1, 4, 2, 2, 2, 1, 1, 1, 2, 1, 1, 4,\n",
       "       1, 1, 2, 4, 4, 3, 1, 1, 2, 1, 4, 1, 1, 1, 1, 4, 1, 4, 4, 2, 1, 1,\n",
       "       2, 1, 2, 2, 4, 1, 2, 2, 1, 1, 4, 1, 1, 1, 2, 4, 1, 1, 1, 1, 2, 1,\n",
       "       2, 1, 1, 1, 4, 1, 1, 1, 4, 1, 4, 4, 1, 2, 1, 1, 2, 1, 3, 2, 1, 3,\n",
       "       1, 1, 2, 1, 2, 1, 1], dtype=int64)"
      ]
     },
     "execution_count": 94,
     "metadata": {},
     "output_type": "execute_result"
    }
   ],
   "source": [
    "prediction=rf_random.predict(X_test)\n",
    "prediction"
   ]
  },
  {
   "cell_type": "code",
   "execution_count": 95,
   "metadata": {},
   "outputs": [
    {
     "name": "stdout",
     "output_type": "stream",
     "text": [
      "0.8883374689826302\n",
      "              precision    recall  f1-score   support\n",
      "\n",
      "           1       0.99      1.00      0.99       187\n",
      "           2       0.80      0.86      0.83       111\n",
      "           3       0.25      0.50      0.33         2\n",
      "           4       0.82      0.72      0.77       103\n",
      "\n",
      "    accuracy                           0.89       403\n",
      "   macro avg       0.72      0.77      0.73       403\n",
      "weighted avg       0.89      0.89      0.89       403\n",
      "\n"
     ]
    },
    {
     "data": {
      "text/plain": [
       "array([[187,   0,   0,   0],\n",
       "       [  0,  96,   0,  15],\n",
       "       [  0,   0,   1,   1],\n",
       "       [  2,  24,   3,  74]], dtype=int64)"
      ]
     },
     "execution_count": 95,
     "metadata": {},
     "output_type": "execute_result"
    }
   ],
   "source": [
    "print(metrics.accuracy_score(y_test,prediction))\n",
    "print(metrics.classification_report(y_test,prediction))\n",
    "metrics.confusion_matrix(y_test,prediction)"
   ]
  },
  {
   "cell_type": "markdown",
   "metadata": {},
   "source": [
    "# Save the model in pickle file to reuse it again"
   ]
  },
  {
   "cell_type": "code",
   "execution_count": 95,
   "metadata": {},
   "outputs": [],
   "source": [
    "import pickle\n",
    "#open a file where you want to store the data\n",
    "file = open('delhiweatherify.pkl','wb')\n",
    "\n",
    "#dump information\n",
    "pickle.dump(rf_random,file)"
   ]
  },
  {
   "cell_type": "code",
   "execution_count": 96,
   "metadata": {},
   "outputs": [
    {
     "data": {
      "text/plain": [
       "['scalernew.save']"
      ]
     },
     "execution_count": 96,
     "metadata": {},
     "output_type": "execute_result"
    }
   ],
   "source": [
    "import joblib\n",
    "scaler_filename = \"scalernew.save\"\n",
    "joblib.dump(scaler, scaler_filename)"
   ]
  }
 ],
 "metadata": {
  "kernelspec": {
   "display_name": "Python 3",
   "language": "python",
   "name": "python3"
  },
  "language_info": {
   "codemirror_mode": {
    "name": "ipython",
    "version": 3
   },
   "file_extension": ".py",
   "mimetype": "text/x-python",
   "name": "python",
   "nbconvert_exporter": "python",
   "pygments_lexer": "ipython3",
   "version": "3.7.7"
  }
 },
 "nbformat": 4,
 "nbformat_minor": 4
}
